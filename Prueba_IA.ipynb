{
 "cells": [
  {
   "cell_type": "code",
   "execution_count": 1,
   "metadata": {},
   "outputs": [],
   "source": [
    "#import ultralytics\n",
    "# Importar las librerías necesarias\n",
    "import os\n",
    "#import torch\n",
    "import shutil\n",
    "from matplotlib import pyplot as plt"
   ]
  },
  {
   "cell_type": "code",
   "execution_count": 2,
   "metadata": {},
   "outputs": [],
   "source": [
    "# Ruta a tu dataset en Google Drive\n",
    "dataset_path = 'C:/Users/48243498/Documents/GitHub/Prueba-con-pelotas'\n",
    "\n",
    "#Ruta local donde se copiará el dataset\n",
    "local_data_path = 'C:/Users/48243498/Documents/GitHub/Prueba-con-pelotas'"
   ]
  },
  {
   "cell_type": "code",
   "execution_count": 3,
   "metadata": {},
   "outputs": [
    {
     "name": "stdout",
     "output_type": "stream",
     "text": [
      "c:\\Users\\48243498\\Documents\\GitHub\\Proyecto-Ecocleaner\\ultralytics\n"
     ]
    },
    {
     "name": "stderr",
     "output_type": "stream",
     "text": [
      "fatal: destination path 'ultralytics' already exists and is not an empty directory.\n"
     ]
    },
    {
     "name": "stdout",
     "output_type": "stream",
     "text": [
      "Defaulting to user installation because normal site-packages is not writeable\n",
      "Obtaining file:///C:/Users/48243498/Documents/GitHub/Proyecto-Ecocleaner/ultralytics\n",
      "  Installing build dependencies: started\n",
      "  Installing build dependencies: finished with status 'done'\n",
      "  Checking if build backend supports build_editable: started\n",
      "  Checking if build backend supports build_editable: finished with status 'done'\n",
      "  Getting requirements to build editable: started\n",
      "  Getting requirements to build editable: finished with status 'done'\n",
      "  Preparing editable metadata (pyproject.toml): started\n",
      "  Preparing editable metadata (pyproject.toml): finished with status 'done'\n",
      "Requirement already satisfied: numpy>=1.23.0 in c:\\users\\48243498\\appdata\\roaming\\python\\python310\\site-packages (from ultralytics==8.3.29) (2.1.3)\n",
      "Requirement already satisfied: matplotlib>=3.3.0 in c:\\users\\48243498\\appdata\\roaming\\python\\python310\\site-packages (from ultralytics==8.3.29) (3.9.2)\n",
      "Requirement already satisfied: opencv-python>=4.6.0 in c:\\users\\48243498\\appdata\\roaming\\python\\python310\\site-packages (from ultralytics==8.3.29) (4.10.0.84)\n",
      "Requirement already satisfied: pillow>=7.1.2 in c:\\users\\48243498\\appdata\\roaming\\python\\python310\\site-packages (from ultralytics==8.3.29) (11.0.0)\n",
      "Requirement already satisfied: pyyaml>=5.3.1 in c:\\users\\48243498\\appdata\\roaming\\python\\python310\\site-packages (from ultralytics==8.3.29) (6.0.2)\n",
      "Requirement already satisfied: requests>=2.23.0 in c:\\users\\48243498\\appdata\\roaming\\python\\python310\\site-packages (from ultralytics==8.3.29) (2.32.3)\n",
      "Requirement already satisfied: scipy>=1.4.1 in c:\\users\\48243498\\appdata\\roaming\\python\\python310\\site-packages (from ultralytics==8.3.29) (1.14.1)\n",
      "Requirement already satisfied: torch>=1.8.0 in c:\\users\\48243498\\appdata\\roaming\\python\\python310\\site-packages (from ultralytics==8.3.29) (2.5.1)\n",
      "Requirement already satisfied: torchvision>=0.9.0 in c:\\users\\48243498\\appdata\\roaming\\python\\python310\\site-packages (from ultralytics==8.3.29) (0.20.1)\n",
      "Requirement already satisfied: tqdm>=4.64.0 in c:\\users\\48243498\\appdata\\roaming\\python\\python310\\site-packages (from ultralytics==8.3.29) (4.67.0)\n",
      "Requirement already satisfied: psutil in c:\\users\\48243498\\appdata\\roaming\\python\\python310\\site-packages (from ultralytics==8.3.29) (6.1.0)\n",
      "Requirement already satisfied: py-cpuinfo in c:\\users\\48243498\\appdata\\roaming\\python\\python310\\site-packages (from ultralytics==8.3.29) (9.0.0)\n",
      "Requirement already satisfied: pandas>=1.1.4 in c:\\users\\48243498\\appdata\\roaming\\python\\python310\\site-packages (from ultralytics==8.3.29) (2.2.3)\n",
      "Requirement already satisfied: seaborn>=0.11.0 in c:\\users\\48243498\\appdata\\roaming\\python\\python310\\site-packages (from ultralytics==8.3.29) (0.13.2)\n",
      "Requirement already satisfied: ultralytics-thop>=2.0.0 in c:\\users\\48243498\\appdata\\roaming\\python\\python310\\site-packages (from ultralytics==8.3.29) (2.0.11)\n",
      "Requirement already satisfied: contourpy>=1.0.1 in c:\\users\\48243498\\appdata\\roaming\\python\\python310\\site-packages (from matplotlib>=3.3.0->ultralytics==8.3.29) (1.3.0)\n",
      "Requirement already satisfied: cycler>=0.10 in c:\\users\\48243498\\appdata\\roaming\\python\\python310\\site-packages (from matplotlib>=3.3.0->ultralytics==8.3.29) (0.12.1)\n",
      "Requirement already satisfied: fonttools>=4.22.0 in c:\\users\\48243498\\appdata\\roaming\\python\\python310\\site-packages (from matplotlib>=3.3.0->ultralytics==8.3.29) (4.54.1)\n",
      "Requirement already satisfied: kiwisolver>=1.3.1 in c:\\users\\48243498\\appdata\\roaming\\python\\python310\\site-packages (from matplotlib>=3.3.0->ultralytics==8.3.29) (1.4.7)\n",
      "Requirement already satisfied: packaging>=20.0 in c:\\users\\48243498\\appdata\\roaming\\python\\python310\\site-packages (from matplotlib>=3.3.0->ultralytics==8.3.29) (24.2)\n",
      "Requirement already satisfied: pyparsing>=2.3.1 in c:\\users\\48243498\\appdata\\roaming\\python\\python310\\site-packages (from matplotlib>=3.3.0->ultralytics==8.3.29) (3.2.0)\n",
      "Requirement already satisfied: python-dateutil>=2.7 in c:\\users\\48243498\\appdata\\roaming\\python\\python310\\site-packages (from matplotlib>=3.3.0->ultralytics==8.3.29) (2.9.0.post0)\n",
      "Requirement already satisfied: pytz>=2020.1 in c:\\users\\48243498\\appdata\\roaming\\python\\python310\\site-packages (from pandas>=1.1.4->ultralytics==8.3.29) (2024.2)\n",
      "Requirement already satisfied: tzdata>=2022.7 in c:\\users\\48243498\\appdata\\roaming\\python\\python310\\site-packages (from pandas>=1.1.4->ultralytics==8.3.29) (2024.2)\n",
      "Requirement already satisfied: charset-normalizer<4,>=2 in c:\\users\\48243498\\appdata\\roaming\\python\\python310\\site-packages (from requests>=2.23.0->ultralytics==8.3.29) (3.4.0)\n",
      "Requirement already satisfied: idna<4,>=2.5 in c:\\users\\48243498\\appdata\\roaming\\python\\python310\\site-packages (from requests>=2.23.0->ultralytics==8.3.29) (3.10)\n",
      "Requirement already satisfied: urllib3<3,>=1.21.1 in c:\\users\\48243498\\appdata\\roaming\\python\\python310\\site-packages (from requests>=2.23.0->ultralytics==8.3.29) (2.2.3)\n",
      "Requirement already satisfied: certifi>=2017.4.17 in c:\\users\\48243498\\appdata\\roaming\\python\\python310\\site-packages (from requests>=2.23.0->ultralytics==8.3.29) (2024.8.30)\n",
      "Requirement already satisfied: filelock in c:\\users\\48243498\\appdata\\roaming\\python\\python310\\site-packages (from torch>=1.8.0->ultralytics==8.3.29) (3.16.1)\n",
      "Requirement already satisfied: typing-extensions>=4.8.0 in c:\\users\\48243498\\appdata\\roaming\\python\\python310\\site-packages (from torch>=1.8.0->ultralytics==8.3.29) (4.12.2)\n",
      "Requirement already satisfied: networkx in c:\\users\\48243498\\appdata\\roaming\\python\\python310\\site-packages (from torch>=1.8.0->ultralytics==8.3.29) (3.4.2)\n",
      "Requirement already satisfied: jinja2 in c:\\users\\48243498\\appdata\\roaming\\python\\python310\\site-packages (from torch>=1.8.0->ultralytics==8.3.29) (3.1.4)\n",
      "Requirement already satisfied: fsspec in c:\\users\\48243498\\appdata\\roaming\\python\\python310\\site-packages (from torch>=1.8.0->ultralytics==8.3.29) (2024.10.0)\n",
      "Requirement already satisfied: sympy==1.13.1 in c:\\users\\48243498\\appdata\\roaming\\python\\python310\\site-packages (from torch>=1.8.0->ultralytics==8.3.29) (1.13.1)\n",
      "Requirement already satisfied: mpmath<1.4,>=1.1.0 in c:\\users\\48243498\\appdata\\roaming\\python\\python310\\site-packages (from sympy==1.13.1->torch>=1.8.0->ultralytics==8.3.29) (1.3.0)\n",
      "Requirement already satisfied: colorama in c:\\users\\48243498\\appdata\\roaming\\python\\python310\\site-packages (from tqdm>=4.64.0->ultralytics==8.3.29) (0.4.6)\n",
      "Requirement already satisfied: six>=1.5 in c:\\users\\48243498\\appdata\\roaming\\python\\python310\\site-packages (from python-dateutil>=2.7->matplotlib>=3.3.0->ultralytics==8.3.29) (1.16.0)\n",
      "Requirement already satisfied: MarkupSafe>=2.0 in c:\\users\\48243498\\appdata\\roaming\\python\\python310\\site-packages (from jinja2->torch>=1.8.0->ultralytics==8.3.29) (3.0.2)\n",
      "Building wheels for collected packages: ultralytics\n",
      "  Building editable for ultralytics (pyproject.toml): started\n",
      "  Building editable for ultralytics (pyproject.toml): finished with status 'done'\n",
      "  Created wheel for ultralytics: filename=ultralytics-8.3.29-0.editable-py3-none-any.whl size=22962 sha256=6cc6b7f1e8eddde12df76c5c3bcc10f908ece0071d4236567a8c436771303da1\n",
      "  Stored in directory: C:\\Users\\48243498\\AppData\\Local\\Temp\\pip-ephem-wheel-cache-iji6v2xr\\wheels\\8b\\16\\c4\\ca03e6533230152e6da1e9b99e6f76e66d6ea9db2334184894\n",
      "Successfully built ultralytics\n",
      "Installing collected packages: ultralytics\n",
      "  Attempting uninstall: ultralytics\n",
      "    Found existing installation: ultralytics 8.3.31\n",
      "    Uninstalling ultralytics-8.3.31:\n",
      "      Successfully uninstalled ultralytics-8.3.31\n",
      "Successfully installed ultralytics-8.3.29\n",
      "Note: you may need to restart the kernel to use updated packages.\n"
     ]
    }
   ],
   "source": [
    "!git clone https://github.com/ultralytics/ultralytics.git\n",
    "%cd ultralytics\n",
    "%pip install -e ."
   ]
  },
  {
   "cell_type": "code",
   "execution_count": 4,
   "metadata": {},
   "outputs": [],
   "source": [
    "yaml_content = f\"\"\"\n",
    "train: {\"C:/Users/48243498/Documents/GitHub/Prueba-con-pelotas/train\"}\n",
    "val: {\"C:/Users/48243498/Documents/GitHub/Prueba-con-pelotas/valid\"}\n",
    "test: {\"C:/Users/48243498/Documents/GitHub/Prueba-con-pelotas/test\"}\n",
    "\n",
    "nc: 1\n",
    "names: ['ball']\n",
    "\n",
    "roboflow:\n",
    "  workspace: ecocleaner-vy6eq\n",
    "  project: prueba-con-pelotas\n",
    "  version: 1\n",
    "  license: CC BY 4.0\n",
    "  url: https://universe.roboflow.com/ecocleaner-vy6eq/prueba-con-pelotas/dataset/1\n",
    "\"\"\"\n",
    "# Ruta donde se guardará el archivo dataset.yaml\n",
    "yaml_path = 'c:/Users/48243498/Documents/GitHub/Prueba-con-pelotas/data.yaml'\n",
    "\n",
    "\n",
    "# Crear la carpeta 'data' si no existe\n",
    "os.makedirs(os.path.dirname(yaml_path), exist_ok=True)\n",
    "\n",
    "# Escribir el contenido en el archivo dataset.yaml\n",
    "with open(\"c:/Users/48243498/Documents/GitHub/Prueba-con-pelotas/data.yaml\", 'w') as f:\n",
    "    f.write(yaml_content)"
   ]
  },
  {
   "cell_type": "code",
   "execution_count": 5,
   "metadata": {},
   "outputs": [
    {
     "name": "stdout",
     "output_type": "stream",
     "text": [
      "El archivo dataset.yaml existe en la ubicación especificada.\n"
     ]
    }
   ],
   "source": [
    "if os.path.exists(yaml_path):\n",
    "    print(\"El archivo dataset.yaml existe en la ubicación especificada.\")\n",
    "else:\n",
    "    print(\"El archivo dataset.yaml NO existe en la ubicación especificada.\")"
   ]
  },
  {
   "cell_type": "code",
   "execution_count": 6,
   "metadata": {},
   "outputs": [
    {
     "name": "stdout",
     "output_type": "stream",
     "text": [
      "New https://pypi.org/project/ultralytics/8.3.31 available  Update with 'pip install -U ultralytics'\n",
      "Ultralytics 8.3.29  Python-3.10.0 torch-2.5.1+cpu CPU (13th Gen Intel Core(TM) i9-13950HX)\n",
      "\u001b[34m\u001b[1mengine\\trainer: \u001b[0mtask=detect, mode=train, model=yolo11n.pt, data=c:/Users/48243498/Documents/GitHub/Prueba-con-pelotas/data.yaml, epochs=10, time=None, patience=100, batch=5, imgsz=640, save=True, save_period=-1, cache=True, device=None, workers=8, project=None, name=train5, exist_ok=False, pretrained=True, optimizer=auto, verbose=True, seed=0, deterministic=True, single_cls=False, rect=False, cos_lr=False, close_mosaic=10, resume=False, amp=True, fraction=1.0, profile=False, freeze=None, multi_scale=False, overlap_mask=True, mask_ratio=4, dropout=0.0, val=True, split=val, save_json=False, save_hybrid=False, conf=None, iou=0.7, max_det=300, half=False, dnn=False, plots=True, source=None, vid_stride=1, stream_buffer=False, visualize=False, augment=False, agnostic_nms=False, classes=None, retina_masks=False, embed=None, show=False, save_frames=False, save_txt=False, save_conf=False, save_crop=False, show_labels=True, show_conf=True, show_boxes=True, line_width=None, format=torchscript, keras=False, optimize=False, int8=False, dynamic=False, simplify=True, opset=None, workspace=4, nms=False, lr0=0.01, lrf=0.01, momentum=0.937, weight_decay=0.0005, warmup_epochs=3.0, warmup_momentum=0.8, warmup_bias_lr=0.1, box=7.5, cls=0.5, dfl=1.5, pose=12.0, kobj=1.0, label_smoothing=0.0, nbs=64, hsv_h=0.015, hsv_s=0.7, hsv_v=0.4, degrees=0.0, translate=0.1, scale=0.5, shear=0.0, perspective=0.0, flipud=0.0, fliplr=0.5, bgr=0.0, mosaic=1.0, mixup=0.0, copy_paste=0.0, copy_paste_mode=flip, auto_augment=randaugment, erasing=0.4, crop_fraction=1.0, cfg=None, tracker=botsort.yaml, save_dir=runs\\detect\\train5\n",
      "Overriding model.yaml nc=80 with nc=1\n",
      "\n",
      "                   from  n    params  module                                       arguments                     \n",
      "  0                  -1  1       464  ultralytics.nn.modules.conv.Conv             [3, 16, 3, 2]                 \n",
      "  1                  -1  1      4672  ultralytics.nn.modules.conv.Conv             [16, 32, 3, 2]                \n",
      "  2                  -1  1      6640  ultralytics.nn.modules.block.C3k2            [32, 64, 1, False, 0.25]      \n",
      "  3                  -1  1     36992  ultralytics.nn.modules.conv.Conv             [64, 64, 3, 2]                \n",
      "  4                  -1  1     26080  ultralytics.nn.modules.block.C3k2            [64, 128, 1, False, 0.25]     \n",
      "  5                  -1  1    147712  ultralytics.nn.modules.conv.Conv             [128, 128, 3, 2]              \n",
      "  6                  -1  1     87040  ultralytics.nn.modules.block.C3k2            [128, 128, 1, True]           \n",
      "  7                  -1  1    295424  ultralytics.nn.modules.conv.Conv             [128, 256, 3, 2]              \n",
      "  8                  -1  1    346112  ultralytics.nn.modules.block.C3k2            [256, 256, 1, True]           \n",
      "  9                  -1  1    164608  ultralytics.nn.modules.block.SPPF            [256, 256, 5]                 \n",
      " 10                  -1  1    249728  ultralytics.nn.modules.block.C2PSA           [256, 256, 1]                 \n",
      " 11                  -1  1         0  torch.nn.modules.upsampling.Upsample         [None, 2, 'nearest']          \n",
      " 12             [-1, 6]  1         0  ultralytics.nn.modules.conv.Concat           [1]                           \n",
      " 13                  -1  1    111296  ultralytics.nn.modules.block.C3k2            [384, 128, 1, False]          \n",
      " 14                  -1  1         0  torch.nn.modules.upsampling.Upsample         [None, 2, 'nearest']          \n",
      " 15             [-1, 4]  1         0  ultralytics.nn.modules.conv.Concat           [1]                           \n",
      " 16                  -1  1     32096  ultralytics.nn.modules.block.C3k2            [256, 64, 1, False]           \n",
      " 17                  -1  1     36992  ultralytics.nn.modules.conv.Conv             [64, 64, 3, 2]                \n",
      " 18            [-1, 13]  1         0  ultralytics.nn.modules.conv.Concat           [1]                           \n",
      " 19                  -1  1     86720  ultralytics.nn.modules.block.C3k2            [192, 128, 1, False]          \n",
      " 20                  -1  1    147712  ultralytics.nn.modules.conv.Conv             [128, 128, 3, 2]              \n",
      " 21            [-1, 10]  1         0  ultralytics.nn.modules.conv.Concat           [1]                           \n",
      " 22                  -1  1    378880  ultralytics.nn.modules.block.C3k2            [384, 256, 1, True]           \n",
      " 23        [16, 19, 22]  1    430867  ultralytics.nn.modules.head.Detect           [1, [64, 128, 256]]           \n",
      "YOLO11n summary: 319 layers, 2,590,035 parameters, 2,590,019 gradients, 6.4 GFLOPs\n",
      "\n",
      "Transferred 448/499 items from pretrained weights\n",
      "Freezing layer 'model.23.dfl.conv.weight'\n"
     ]
    },
    {
     "name": "stderr",
     "output_type": "stream",
     "text": [
      "\u001b[34m\u001b[1mtrain: \u001b[0mScanning C:\\Users\\48243498\\Documents\\GitHub\\Prueba-con-pelotas\\train\\labels.cache... 60 images, 0 backgrounds, 0 corrupt: 100%|██████████| 60/60 [00:00<?, ?it/s]"
     ]
    },
    {
     "name": "stdout",
     "output_type": "stream",
     "text": [
      "WARNING  cache='ram' may produce non-deterministic training results. Consider cache='disk' as a deterministic alternative if your disk space allows.\n"
     ]
    },
    {
     "name": "stderr",
     "output_type": "stream",
     "text": [
      "\n",
      "\u001b[34m\u001b[1mtrain: \u001b[0mCaching images (0.1GB RAM): 100%|██████████| 60/60 [00:00<00:00, 515.01it/s]\n",
      "\u001b[34m\u001b[1mval: \u001b[0mScanning C:\\Users\\48243498\\Documents\\GitHub\\Prueba-con-pelotas\\valid\\labels.cache... 6 images, 0 backgrounds, 0 corrupt: 100%|██████████| 6/6 [00:00<?, ?it/s]"
     ]
    },
    {
     "name": "stdout",
     "output_type": "stream",
     "text": [
      "WARNING  cache='ram' may produce non-deterministic training results. Consider cache='disk' as a deterministic alternative if your disk space allows.\n"
     ]
    },
    {
     "name": "stderr",
     "output_type": "stream",
     "text": [
      "\n",
      "\u001b[34m\u001b[1mval: \u001b[0mCaching images (0.0GB RAM): 100%|██████████| 6/6 [00:00<00:00, 361.05it/s]\n"
     ]
    },
    {
     "name": "stdout",
     "output_type": "stream",
     "text": [
      "Plotting labels to runs\\detect\\train5\\labels.jpg... \n",
      "\u001b[34m\u001b[1moptimizer:\u001b[0m 'optimizer=auto' found, ignoring 'lr0=0.01' and 'momentum=0.937' and determining best 'optimizer', 'lr0' and 'momentum' automatically... \n",
      "\u001b[34m\u001b[1moptimizer:\u001b[0m AdamW(lr=0.002, momentum=0.9) with parameter groups 81 weight(decay=0.0), 88 weight(decay=0.0005078125), 87 bias(decay=0.0)\n",
      "Image sizes 640 train, 640 val\n",
      "Using 0 dataloader workers\n",
      "Logging results to \u001b[1mruns\\detect\\train5\u001b[0m\n",
      "Starting training for 10 epochs...\n",
      "Closing dataloader mosaic\n",
      "\n",
      "      Epoch    GPU_mem   box_loss   cls_loss   dfl_loss  Instances       Size\n"
     ]
    },
    {
     "name": "stderr",
     "output_type": "stream",
     "text": [
      "       1/10         0G      1.494      2.937      1.657         33        640: 100%|██████████| 12/12 [00:32<00:00,  2.73s/it]\n",
      "                 Class     Images  Instances      Box(P          R      mAP50  mAP50-95): 100%|██████████| 1/1 [00:01<00:00,  1.40s/it]"
     ]
    },
    {
     "name": "stdout",
     "output_type": "stream",
     "text": [
      "                   all          6         26     0.0144          1      0.259      0.172\n"
     ]
    },
    {
     "name": "stderr",
     "output_type": "stream",
     "text": [
      "\n"
     ]
    },
    {
     "name": "stdout",
     "output_type": "stream",
     "text": [
      "\n",
      "      Epoch    GPU_mem   box_loss   cls_loss   dfl_loss  Instances       Size\n"
     ]
    },
    {
     "name": "stderr",
     "output_type": "stream",
     "text": [
      "       2/10         0G      1.252      2.708       1.49         27        640: 100%|██████████| 12/12 [00:29<00:00,  2.48s/it]\n",
      "                 Class     Images  Instances      Box(P          R      mAP50  mAP50-95): 100%|██████████| 1/1 [00:01<00:00,  1.03s/it]"
     ]
    },
    {
     "name": "stdout",
     "output_type": "stream",
     "text": [
      "                   all          6         26     0.0144          1      0.457      0.191\n"
     ]
    },
    {
     "name": "stderr",
     "output_type": "stream",
     "text": [
      "\n"
     ]
    },
    {
     "name": "stdout",
     "output_type": "stream",
     "text": [
      "\n",
      "      Epoch    GPU_mem   box_loss   cls_loss   dfl_loss  Instances       Size\n"
     ]
    },
    {
     "name": "stderr",
     "output_type": "stream",
     "text": [
      "       3/10         0G      1.234      2.349      1.394         38        640: 100%|██████████| 12/12 [00:30<00:00,  2.53s/it]\n",
      "                 Class     Images  Instances      Box(P          R      mAP50  mAP50-95): 100%|██████████| 1/1 [00:01<00:00,  1.04s/it]"
     ]
    },
    {
     "name": "stdout",
     "output_type": "stream",
     "text": [
      "                   all          6         26     0.0144          1      0.437      0.247\n"
     ]
    },
    {
     "name": "stderr",
     "output_type": "stream",
     "text": [
      "\n"
     ]
    },
    {
     "name": "stdout",
     "output_type": "stream",
     "text": [
      "\n",
      "      Epoch    GPU_mem   box_loss   cls_loss   dfl_loss  Instances       Size\n"
     ]
    },
    {
     "name": "stderr",
     "output_type": "stream",
     "text": [
      "       4/10         0G      1.181       2.03       1.38         35        640: 100%|██████████| 12/12 [00:28<00:00,  2.41s/it]\n",
      "                 Class     Images  Instances      Box(P          R      mAP50  mAP50-95): 100%|██████████| 1/1 [00:01<00:00,  1.01s/it]"
     ]
    },
    {
     "name": "stdout",
     "output_type": "stream",
     "text": [
      "                   all          6         26      0.846      0.231      0.573      0.316\n"
     ]
    },
    {
     "name": "stderr",
     "output_type": "stream",
     "text": [
      "\n"
     ]
    },
    {
     "name": "stdout",
     "output_type": "stream",
     "text": [
      "\n",
      "      Epoch    GPU_mem   box_loss   cls_loss   dfl_loss  Instances       Size\n"
     ]
    },
    {
     "name": "stderr",
     "output_type": "stream",
     "text": [
      "       5/10         0G      1.124      1.916      1.362         45        640: 100%|██████████| 12/12 [00:30<00:00,  2.50s/it]\n",
      "                 Class     Images  Instances      Box(P          R      mAP50  mAP50-95): 100%|██████████| 1/1 [00:01<00:00,  1.09s/it]"
     ]
    },
    {
     "name": "stdout",
     "output_type": "stream",
     "text": [
      "                   all          6         26      0.805      0.318      0.699      0.387\n"
     ]
    },
    {
     "name": "stderr",
     "output_type": "stream",
     "text": [
      "\n"
     ]
    },
    {
     "name": "stdout",
     "output_type": "stream",
     "text": [
      "\n",
      "      Epoch    GPU_mem   box_loss   cls_loss   dfl_loss  Instances       Size\n"
     ]
    },
    {
     "name": "stderr",
     "output_type": "stream",
     "text": [
      "       6/10         0G      1.174      1.825      1.363         21        640: 100%|██████████| 12/12 [00:31<00:00,  2.61s/it]\n",
      "                 Class     Images  Instances      Box(P          R      mAP50  mAP50-95): 100%|██████████| 1/1 [00:01<00:00,  1.12s/it]"
     ]
    },
    {
     "name": "stdout",
     "output_type": "stream",
     "text": [
      "                   all          6         26       0.84      0.605       0.82      0.574\n"
     ]
    },
    {
     "name": "stderr",
     "output_type": "stream",
     "text": [
      "\n"
     ]
    },
    {
     "name": "stdout",
     "output_type": "stream",
     "text": [
      "\n",
      "      Epoch    GPU_mem   box_loss   cls_loss   dfl_loss  Instances       Size\n"
     ]
    },
    {
     "name": "stderr",
     "output_type": "stream",
     "text": [
      "       7/10         0G      1.196      1.674      1.385         31        640: 100%|██████████| 12/12 [00:31<00:00,  2.58s/it]\n",
      "                 Class     Images  Instances      Box(P          R      mAP50  mAP50-95): 100%|██████████| 1/1 [00:01<00:00,  1.14s/it]"
     ]
    },
    {
     "name": "stdout",
     "output_type": "stream",
     "text": [
      "                   all          6         26      0.712      0.808      0.837      0.655\n"
     ]
    },
    {
     "name": "stderr",
     "output_type": "stream",
     "text": [
      "\n"
     ]
    },
    {
     "name": "stdout",
     "output_type": "stream",
     "text": [
      "\n",
      "      Epoch    GPU_mem   box_loss   cls_loss   dfl_loss  Instances       Size\n"
     ]
    },
    {
     "name": "stderr",
     "output_type": "stream",
     "text": [
      "       8/10         0G      1.144      1.615      1.363         32        640: 100%|██████████| 12/12 [00:31<00:00,  2.60s/it]\n",
      "                 Class     Images  Instances      Box(P          R      mAP50  mAP50-95): 100%|██████████| 1/1 [00:01<00:00,  1.09s/it]"
     ]
    },
    {
     "name": "stdout",
     "output_type": "stream",
     "text": [
      "                   all          6         26      0.799      0.919      0.891      0.689\n"
     ]
    },
    {
     "name": "stderr",
     "output_type": "stream",
     "text": [
      "\n"
     ]
    },
    {
     "name": "stdout",
     "output_type": "stream",
     "text": [
      "\n",
      "      Epoch    GPU_mem   box_loss   cls_loss   dfl_loss  Instances       Size\n"
     ]
    },
    {
     "name": "stderr",
     "output_type": "stream",
     "text": [
      "       9/10         0G      1.156      1.634      1.349         22        640: 100%|██████████| 12/12 [00:31<00:00,  2.60s/it]\n",
      "                 Class     Images  Instances      Box(P          R      mAP50  mAP50-95): 100%|██████████| 1/1 [00:01<00:00,  1.08s/it]"
     ]
    },
    {
     "name": "stdout",
     "output_type": "stream",
     "text": [
      "                   all          6         26      0.757      0.923      0.871      0.651\n"
     ]
    },
    {
     "name": "stderr",
     "output_type": "stream",
     "text": [
      "\n"
     ]
    },
    {
     "name": "stdout",
     "output_type": "stream",
     "text": [
      "\n",
      "      Epoch    GPU_mem   box_loss   cls_loss   dfl_loss  Instances       Size\n"
     ]
    },
    {
     "name": "stderr",
     "output_type": "stream",
     "text": [
      "      10/10         0G       1.17      1.567      1.334         18        640: 100%|██████████| 12/12 [00:31<00:00,  2.62s/it]\n",
      "                 Class     Images  Instances      Box(P          R      mAP50  mAP50-95): 100%|██████████| 1/1 [00:01<00:00,  1.12s/it]"
     ]
    },
    {
     "name": "stdout",
     "output_type": "stream",
     "text": [
      "                   all          6         26      0.749      0.919       0.86      0.647\n"
     ]
    },
    {
     "name": "stderr",
     "output_type": "stream",
     "text": [
      "\n"
     ]
    },
    {
     "name": "stdout",
     "output_type": "stream",
     "text": [
      "\n",
      "10 epochs completed in 0.090 hours.\n",
      "Optimizer stripped from runs\\detect\\train5\\weights\\last.pt, 5.5MB\n",
      "Optimizer stripped from runs\\detect\\train5\\weights\\best.pt, 5.5MB\n",
      "\n",
      "Validating runs\\detect\\train5\\weights\\best.pt...\n",
      "Ultralytics 8.3.29  Python-3.10.0 torch-2.5.1+cpu CPU (13th Gen Intel Core(TM) i9-13950HX)\n",
      "YOLO11n summary (fused): 238 layers, 2,582,347 parameters, 0 gradients, 6.3 GFLOPs\n"
     ]
    },
    {
     "name": "stderr",
     "output_type": "stream",
     "text": [
      "                 Class     Images  Instances      Box(P          R      mAP50  mAP50-95): 100%|██████████| 1/1 [00:00<00:00,  1.12it/s]\n"
     ]
    },
    {
     "name": "stdout",
     "output_type": "stream",
     "text": [
      "                   all          6         26      0.799      0.918      0.891      0.689\n",
      "Speed: 1.5ms preprocess, 131.7ms inference, 0.0ms loss, 10.3ms postprocess per image\n",
      "Results saved to \u001b[1mruns\\detect\\train5\u001b[0m\n"
     ]
    },
    {
     "data": {
      "text/plain": [
       "ultralytics.utils.metrics.DetMetrics object with attributes:\n",
       "\n",
       "ap_class_index: array([0])\n",
       "box: ultralytics.utils.metrics.Metric object\n",
       "confusion_matrix: <ultralytics.utils.metrics.ConfusionMatrix object at 0x000002B825510A00>\n",
       "curves: ['Precision-Recall(B)', 'F1-Confidence(B)', 'Precision-Confidence(B)', 'Recall-Confidence(B)']\n",
       "curves_results: [[array([          0,    0.001001,    0.002002,    0.003003,    0.004004,    0.005005,    0.006006,    0.007007,    0.008008,    0.009009,     0.01001,    0.011011,    0.012012,    0.013013,    0.014014,    0.015015,    0.016016,    0.017017,    0.018018,    0.019019,     0.02002,    0.021021,    0.022022,    0.023023,\n",
       "          0.024024,    0.025025,    0.026026,    0.027027,    0.028028,    0.029029,     0.03003,    0.031031,    0.032032,    0.033033,    0.034034,    0.035035,    0.036036,    0.037037,    0.038038,    0.039039,     0.04004,    0.041041,    0.042042,    0.043043,    0.044044,    0.045045,    0.046046,    0.047047,\n",
       "          0.048048,    0.049049,     0.05005,    0.051051,    0.052052,    0.053053,    0.054054,    0.055055,    0.056056,    0.057057,    0.058058,    0.059059,     0.06006,    0.061061,    0.062062,    0.063063,    0.064064,    0.065065,    0.066066,    0.067067,    0.068068,    0.069069,     0.07007,    0.071071,\n",
       "          0.072072,    0.073073,    0.074074,    0.075075,    0.076076,    0.077077,    0.078078,    0.079079,     0.08008,    0.081081,    0.082082,    0.083083,    0.084084,    0.085085,    0.086086,    0.087087,    0.088088,    0.089089,     0.09009,    0.091091,    0.092092,    0.093093,    0.094094,    0.095095,\n",
       "          0.096096,    0.097097,    0.098098,    0.099099,      0.1001,      0.1011,      0.1021,      0.1031,      0.1041,     0.10511,     0.10611,     0.10711,     0.10811,     0.10911,     0.11011,     0.11111,     0.11211,     0.11311,     0.11411,     0.11512,     0.11612,     0.11712,     0.11812,     0.11912,\n",
       "           0.12012,     0.12112,     0.12212,     0.12312,     0.12412,     0.12513,     0.12613,     0.12713,     0.12813,     0.12913,     0.13013,     0.13113,     0.13213,     0.13313,     0.13413,     0.13514,     0.13614,     0.13714,     0.13814,     0.13914,     0.14014,     0.14114,     0.14214,     0.14314,\n",
       "           0.14414,     0.14515,     0.14615,     0.14715,     0.14815,     0.14915,     0.15015,     0.15115,     0.15215,     0.15315,     0.15415,     0.15516,     0.15616,     0.15716,     0.15816,     0.15916,     0.16016,     0.16116,     0.16216,     0.16316,     0.16416,     0.16517,     0.16617,     0.16717,\n",
       "           0.16817,     0.16917,     0.17017,     0.17117,     0.17217,     0.17317,     0.17417,     0.17518,     0.17618,     0.17718,     0.17818,     0.17918,     0.18018,     0.18118,     0.18218,     0.18318,     0.18418,     0.18519,     0.18619,     0.18719,     0.18819,     0.18919,     0.19019,     0.19119,\n",
       "           0.19219,     0.19319,     0.19419,      0.1952,      0.1962,      0.1972,      0.1982,      0.1992,      0.2002,      0.2012,      0.2022,      0.2032,      0.2042,     0.20521,     0.20621,     0.20721,     0.20821,     0.20921,     0.21021,     0.21121,     0.21221,     0.21321,     0.21421,     0.21522,\n",
       "           0.21622,     0.21722,     0.21822,     0.21922,     0.22022,     0.22122,     0.22222,     0.22322,     0.22422,     0.22523,     0.22623,     0.22723,     0.22823,     0.22923,     0.23023,     0.23123,     0.23223,     0.23323,     0.23423,     0.23524,     0.23624,     0.23724,     0.23824,     0.23924,\n",
       "           0.24024,     0.24124,     0.24224,     0.24324,     0.24424,     0.24525,     0.24625,     0.24725,     0.24825,     0.24925,     0.25025,     0.25125,     0.25225,     0.25325,     0.25425,     0.25526,     0.25626,     0.25726,     0.25826,     0.25926,     0.26026,     0.26126,     0.26226,     0.26326,\n",
       "           0.26426,     0.26527,     0.26627,     0.26727,     0.26827,     0.26927,     0.27027,     0.27127,     0.27227,     0.27327,     0.27427,     0.27528,     0.27628,     0.27728,     0.27828,     0.27928,     0.28028,     0.28128,     0.28228,     0.28328,     0.28428,     0.28529,     0.28629,     0.28729,\n",
       "           0.28829,     0.28929,     0.29029,     0.29129,     0.29229,     0.29329,     0.29429,      0.2953,      0.2963,      0.2973,      0.2983,      0.2993,      0.3003,      0.3013,      0.3023,      0.3033,      0.3043,     0.30531,     0.30631,     0.30731,     0.30831,     0.30931,     0.31031,     0.31131,\n",
       "           0.31231,     0.31331,     0.31431,     0.31532,     0.31632,     0.31732,     0.31832,     0.31932,     0.32032,     0.32132,     0.32232,     0.32332,     0.32432,     0.32533,     0.32633,     0.32733,     0.32833,     0.32933,     0.33033,     0.33133,     0.33233,     0.33333,     0.33433,     0.33534,\n",
       "           0.33634,     0.33734,     0.33834,     0.33934,     0.34034,     0.34134,     0.34234,     0.34334,     0.34434,     0.34535,     0.34635,     0.34735,     0.34835,     0.34935,     0.35035,     0.35135,     0.35235,     0.35335,     0.35435,     0.35536,     0.35636,     0.35736,     0.35836,     0.35936,\n",
       "           0.36036,     0.36136,     0.36236,     0.36336,     0.36436,     0.36537,     0.36637,     0.36737,     0.36837,     0.36937,     0.37037,     0.37137,     0.37237,     0.37337,     0.37437,     0.37538,     0.37638,     0.37738,     0.37838,     0.37938,     0.38038,     0.38138,     0.38238,     0.38338,\n",
       "           0.38438,     0.38539,     0.38639,     0.38739,     0.38839,     0.38939,     0.39039,     0.39139,     0.39239,     0.39339,     0.39439,      0.3954,      0.3964,      0.3974,      0.3984,      0.3994,      0.4004,      0.4014,      0.4024,      0.4034,      0.4044,     0.40541,     0.40641,     0.40741,\n",
       "           0.40841,     0.40941,     0.41041,     0.41141,     0.41241,     0.41341,     0.41441,     0.41542,     0.41642,     0.41742,     0.41842,     0.41942,     0.42042,     0.42142,     0.42242,     0.42342,     0.42442,     0.42543,     0.42643,     0.42743,     0.42843,     0.42943,     0.43043,     0.43143,\n",
       "           0.43243,     0.43343,     0.43443,     0.43544,     0.43644,     0.43744,     0.43844,     0.43944,     0.44044,     0.44144,     0.44244,     0.44344,     0.44444,     0.44545,     0.44645,     0.44745,     0.44845,     0.44945,     0.45045,     0.45145,     0.45245,     0.45345,     0.45445,     0.45546,\n",
       "           0.45646,     0.45746,     0.45846,     0.45946,     0.46046,     0.46146,     0.46246,     0.46346,     0.46446,     0.46547,     0.46647,     0.46747,     0.46847,     0.46947,     0.47047,     0.47147,     0.47247,     0.47347,     0.47447,     0.47548,     0.47648,     0.47748,     0.47848,     0.47948,\n",
       "           0.48048,     0.48148,     0.48248,     0.48348,     0.48448,     0.48549,     0.48649,     0.48749,     0.48849,     0.48949,     0.49049,     0.49149,     0.49249,     0.49349,     0.49449,      0.4955,      0.4965,      0.4975,      0.4985,      0.4995,      0.5005,      0.5015,      0.5025,      0.5035,\n",
       "            0.5045,     0.50551,     0.50651,     0.50751,     0.50851,     0.50951,     0.51051,     0.51151,     0.51251,     0.51351,     0.51451,     0.51552,     0.51652,     0.51752,     0.51852,     0.51952,     0.52052,     0.52152,     0.52252,     0.52352,     0.52452,     0.52553,     0.52653,     0.52753,\n",
       "           0.52853,     0.52953,     0.53053,     0.53153,     0.53253,     0.53353,     0.53453,     0.53554,     0.53654,     0.53754,     0.53854,     0.53954,     0.54054,     0.54154,     0.54254,     0.54354,     0.54454,     0.54555,     0.54655,     0.54755,     0.54855,     0.54955,     0.55055,     0.55155,\n",
       "           0.55255,     0.55355,     0.55455,     0.55556,     0.55656,     0.55756,     0.55856,     0.55956,     0.56056,     0.56156,     0.56256,     0.56356,     0.56456,     0.56557,     0.56657,     0.56757,     0.56857,     0.56957,     0.57057,     0.57157,     0.57257,     0.57357,     0.57457,     0.57558,\n",
       "           0.57658,     0.57758,     0.57858,     0.57958,     0.58058,     0.58158,     0.58258,     0.58358,     0.58458,     0.58559,     0.58659,     0.58759,     0.58859,     0.58959,     0.59059,     0.59159,     0.59259,     0.59359,     0.59459,      0.5956,      0.5966,      0.5976,      0.5986,      0.5996,\n",
       "            0.6006,      0.6016,      0.6026,      0.6036,      0.6046,     0.60561,     0.60661,     0.60761,     0.60861,     0.60961,     0.61061,     0.61161,     0.61261,     0.61361,     0.61461,     0.61562,     0.61662,     0.61762,     0.61862,     0.61962,     0.62062,     0.62162,     0.62262,     0.62362,\n",
       "           0.62462,     0.62563,     0.62663,     0.62763,     0.62863,     0.62963,     0.63063,     0.63163,     0.63263,     0.63363,     0.63463,     0.63564,     0.63664,     0.63764,     0.63864,     0.63964,     0.64064,     0.64164,     0.64264,     0.64364,     0.64464,     0.64565,     0.64665,     0.64765,\n",
       "           0.64865,     0.64965,     0.65065,     0.65165,     0.65265,     0.65365,     0.65465,     0.65566,     0.65666,     0.65766,     0.65866,     0.65966,     0.66066,     0.66166,     0.66266,     0.66366,     0.66466,     0.66567,     0.66667,     0.66767,     0.66867,     0.66967,     0.67067,     0.67167,\n",
       "           0.67267,     0.67367,     0.67467,     0.67568,     0.67668,     0.67768,     0.67868,     0.67968,     0.68068,     0.68168,     0.68268,     0.68368,     0.68468,     0.68569,     0.68669,     0.68769,     0.68869,     0.68969,     0.69069,     0.69169,     0.69269,     0.69369,     0.69469,      0.6957,\n",
       "            0.6967,      0.6977,      0.6987,      0.6997,      0.7007,      0.7017,      0.7027,      0.7037,      0.7047,     0.70571,     0.70671,     0.70771,     0.70871,     0.70971,     0.71071,     0.71171,     0.71271,     0.71371,     0.71471,     0.71572,     0.71672,     0.71772,     0.71872,     0.71972,\n",
       "           0.72072,     0.72172,     0.72272,     0.72372,     0.72472,     0.72573,     0.72673,     0.72773,     0.72873,     0.72973,     0.73073,     0.73173,     0.73273,     0.73373,     0.73473,     0.73574,     0.73674,     0.73774,     0.73874,     0.73974,     0.74074,     0.74174,     0.74274,     0.74374,\n",
       "           0.74474,     0.74575,     0.74675,     0.74775,     0.74875,     0.74975,     0.75075,     0.75175,     0.75275,     0.75375,     0.75475,     0.75576,     0.75676,     0.75776,     0.75876,     0.75976,     0.76076,     0.76176,     0.76276,     0.76376,     0.76476,     0.76577,     0.76677,     0.76777,\n",
       "           0.76877,     0.76977,     0.77077,     0.77177,     0.77277,     0.77377,     0.77477,     0.77578,     0.77678,     0.77778,     0.77878,     0.77978,     0.78078,     0.78178,     0.78278,     0.78378,     0.78478,     0.78579,     0.78679,     0.78779,     0.78879,     0.78979,     0.79079,     0.79179,\n",
       "           0.79279,     0.79379,     0.79479,      0.7958,      0.7968,      0.7978,      0.7988,      0.7998,      0.8008,      0.8018,      0.8028,      0.8038,      0.8048,     0.80581,     0.80681,     0.80781,     0.80881,     0.80981,     0.81081,     0.81181,     0.81281,     0.81381,     0.81481,     0.81582,\n",
       "           0.81682,     0.81782,     0.81882,     0.81982,     0.82082,     0.82182,     0.82282,     0.82382,     0.82482,     0.82583,     0.82683,     0.82783,     0.82883,     0.82983,     0.83083,     0.83183,     0.83283,     0.83383,     0.83483,     0.83584,     0.83684,     0.83784,     0.83884,     0.83984,\n",
       "           0.84084,     0.84184,     0.84284,     0.84384,     0.84484,     0.84585,     0.84685,     0.84785,     0.84885,     0.84985,     0.85085,     0.85185,     0.85285,     0.85385,     0.85485,     0.85586,     0.85686,     0.85786,     0.85886,     0.85986,     0.86086,     0.86186,     0.86286,     0.86386,\n",
       "           0.86486,     0.86587,     0.86687,     0.86787,     0.86887,     0.86987,     0.87087,     0.87187,     0.87287,     0.87387,     0.87487,     0.87588,     0.87688,     0.87788,     0.87888,     0.87988,     0.88088,     0.88188,     0.88288,     0.88388,     0.88488,     0.88589,     0.88689,     0.88789,\n",
       "           0.88889,     0.88989,     0.89089,     0.89189,     0.89289,     0.89389,     0.89489,      0.8959,      0.8969,      0.8979,      0.8989,      0.8999,      0.9009,      0.9019,      0.9029,      0.9039,      0.9049,     0.90591,     0.90691,     0.90791,     0.90891,     0.90991,     0.91091,     0.91191,\n",
       "           0.91291,     0.91391,     0.91491,     0.91592,     0.91692,     0.91792,     0.91892,     0.91992,     0.92092,     0.92192,     0.92292,     0.92392,     0.92492,     0.92593,     0.92693,     0.92793,     0.92893,     0.92993,     0.93093,     0.93193,     0.93293,     0.93393,     0.93493,     0.93594,\n",
       "           0.93694,     0.93794,     0.93894,     0.93994,     0.94094,     0.94194,     0.94294,     0.94394,     0.94494,     0.94595,     0.94695,     0.94795,     0.94895,     0.94995,     0.95095,     0.95195,     0.95295,     0.95395,     0.95495,     0.95596,     0.95696,     0.95796,     0.95896,     0.95996,\n",
       "           0.96096,     0.96196,     0.96296,     0.96396,     0.96496,     0.96597,     0.96697,     0.96797,     0.96897,     0.96997,     0.97097,     0.97197,     0.97297,     0.97397,     0.97497,     0.97598,     0.97698,     0.97798,     0.97898,     0.97998,     0.98098,     0.98198,     0.98298,     0.98398,\n",
       "           0.98498,     0.98599,     0.98699,     0.98799,     0.98899,     0.98999,     0.99099,     0.99199,     0.99299,     0.99399,     0.99499,       0.996,       0.997,       0.998,       0.999,           1]), array([[          1,           1,           1,           1,           1,           1,           1,           1,           1,           1,           1,           1,           1,           1,           1,           1,           1,           1,           1,           1,           1,           1,           1,\n",
       "                  1,           1,           1,           1,           1,           1,           1,           1,           1,           1,           1,           1,           1,           1,           1,           1,           1,           1,           1,           1,           1,           1,           1,\n",
       "                  1,           1,           1,           1,           1,           1,           1,           1,           1,           1,           1,           1,           1,           1,           1,           1,           1,           1,           1,           1,           1,           1,           1,\n",
       "                  1,           1,           1,           1,           1,           1,           1,           1,           1,           1,           1,           1,           1,           1,           1,           1,           1,           1,           1,           1,           1,           1,           1,\n",
       "                  1,           1,           1,           1,           1,           1,           1,           1,           1,           1,           1,           1,           1,           1,           1,           1,           1,           1,           1,           1,           1,           1,           1,\n",
       "                  1,      0.9375,      0.9375,      0.9375,      0.9375,      0.9375,      0.9375,      0.9375,      0.9375,      0.9375,      0.9375,      0.9375,      0.9375,      0.9375,      0.9375,      0.9375,      0.9375,      0.9375,      0.9375,      0.9375,      0.9375,      0.9375,      0.9375,\n",
       "             0.9375,      0.9375,      0.9375,      0.9375,      0.9375,      0.9375,      0.9375,      0.9375,      0.9375,      0.9375,      0.9375,      0.9375,      0.9375,      0.9375,      0.9375,      0.9375,      0.9375,      0.9375,      0.9375,      0.9375,      0.9375,      0.9375,      0.9375,\n",
       "             0.9375,      0.9375,      0.9375,      0.9375,      0.9375,      0.9375,      0.9375,      0.9375,      0.9375,      0.9375,      0.9375,      0.9375,      0.9375,      0.9375,      0.9375,      0.9375,      0.9375,      0.9375,      0.9375,      0.9375,      0.9375,      0.9375,      0.9375,\n",
       "             0.9375,      0.9375,      0.9375,      0.9375,      0.9375,      0.9375,      0.9375,      0.9375,      0.9375,      0.9375,      0.9375,      0.9375,      0.9375,      0.9375,      0.9375,      0.9375,      0.9375,      0.9375,      0.9375,      0.9375,      0.9375,      0.9375,      0.9375,\n",
       "             0.9375,      0.9375,      0.9375,      0.9375,      0.9375,      0.9375,      0.9375,      0.9375,      0.9375,      0.9375,      0.9375,      0.9375,      0.9375,      0.9375,      0.9375,      0.9375,      0.9375,      0.9375,      0.9375,      0.9375,      0.9375,      0.9375,      0.9375,\n",
       "             0.9375,      0.9375,      0.9375,      0.9375,      0.9375,      0.9375,      0.9375,      0.9375,      0.9375,      0.9375,      0.9375,      0.9375,      0.9375,      0.9375,      0.9375,      0.9375,      0.9375,      0.9375,      0.9375,      0.9375,      0.9375,      0.9375,      0.9375,\n",
       "             0.9375,      0.9375,      0.9375,      0.9375,      0.9375,      0.9375,      0.9375,      0.9375,      0.9375,      0.9375,      0.9375,      0.9375,      0.9375,      0.9375,      0.9375,      0.9375,      0.9375,      0.9375,      0.9375,      0.9375,      0.9375,      0.9375,      0.9375,\n",
       "             0.9375,      0.9375,      0.9375,      0.9375,      0.9375,      0.9375,      0.9375,      0.9375,      0.9375,      0.9375,      0.9375,      0.9375,      0.9375,      0.9375,      0.9375,      0.9375,      0.9375,      0.9375,      0.9375,      0.9375,      0.9375,      0.9375,      0.9375,\n",
       "             0.9375,      0.9375,      0.9375,      0.9375,      0.9375,      0.9375,      0.9375,      0.9375,      0.9375,      0.9375,      0.9375,      0.9375,      0.9375,      0.9375,      0.9375,      0.9375,      0.9375,      0.9375,      0.9375,      0.9375,      0.9375,      0.9375,      0.9375,\n",
       "             0.9375,      0.9375,      0.9375,      0.9375,      0.9375,      0.9375,      0.9375,      0.9375,      0.9375,      0.9375,      0.9375,      0.9375,      0.9375,      0.9375,      0.9375,      0.9375,      0.9375,      0.9375,      0.9375,      0.9375,      0.9375,      0.9375,      0.9375,\n",
       "             0.9375,      0.9375,      0.9375,      0.9375,      0.9375,      0.9375,      0.9375,      0.9375,      0.9375,      0.9375,      0.9375,      0.9375,      0.9375,      0.9375,      0.9375,      0.9375,      0.9375,      0.9375,      0.9375,      0.9375,      0.9375,      0.9375,      0.9375,\n",
       "             0.9375,      0.9375,      0.9375,      0.9375,      0.9375,      0.9375,      0.9375,      0.9375,      0.9375,      0.9375,      0.9375,      0.9375,      0.9375,      0.9375,      0.9375,      0.9375,      0.9375,      0.9375,      0.9375,      0.9375,      0.9375,      0.9375,      0.9375,\n",
       "             0.9375,      0.9375,      0.9375,      0.9375,      0.9375,      0.9375,      0.9375,      0.9375,      0.9375,      0.9375,      0.9375,      0.9375,      0.9375,      0.9375,      0.9375,      0.9375,      0.9375,      0.9375,      0.9375,      0.9375,      0.9375,      0.9375,      0.9375,\n",
       "             0.9375,      0.9375,      0.9375,      0.9375,      0.9375,      0.9375,      0.9375,      0.9375,      0.9375,      0.9375,      0.9375,      0.9375,      0.9375,      0.9375,      0.9375,      0.9375,      0.9375,      0.9375,      0.9375,      0.9375,      0.9375,      0.9375,      0.9375,\n",
       "             0.9375,      0.9375,      0.9375,      0.9375,      0.9375,      0.9375,      0.9375,      0.9375,      0.9375,      0.9375,      0.9375,      0.9375,      0.9375,      0.9375,      0.9375,      0.9375,      0.9375,      0.9375,      0.9375,      0.9375,      0.9375,      0.9375,      0.9375,\n",
       "             0.9375,      0.9375,      0.9375,      0.9375,      0.9375,      0.9375,      0.9375,      0.9375,      0.9375,      0.9375,      0.9375,      0.9375,      0.9375,      0.9375,      0.9375,      0.9375,      0.9375,      0.9375,      0.9375,      0.9375,      0.9375,      0.9375,      0.9375,\n",
       "             0.9375,      0.9375,      0.9375,      0.9375,      0.9375,      0.9375,      0.9375,      0.9375,      0.9375,      0.9375,      0.9375,      0.9375,      0.9375,      0.9375,      0.9375,      0.9375,      0.9375,      0.9375,      0.9375,      0.9375,      0.9375,      0.9375,      0.9375,\n",
       "             0.9375,      0.9375,      0.9375,      0.9375,      0.9375,      0.9375,      0.9375,      0.9375,      0.9375,      0.9375,      0.9375,      0.9375,      0.9375,      0.9375,      0.9375,      0.9375,      0.9375,      0.9375,      0.9375,      0.9375,      0.9375,      0.9375,      0.9375,\n",
       "             0.9375,      0.9375,      0.9375,      0.9375,      0.9375,      0.9375,      0.9375,      0.9375,      0.9375,      0.9375,      0.9375,      0.9375,      0.9375,      0.9375,      0.9375,      0.9375,      0.9375,      0.9375,      0.9375,      0.9375,      0.9375,      0.9375,      0.9375,\n",
       "             0.9375,      0.9375,      0.9375,      0.9375,      0.9375,      0.9375,      0.9375,      0.9375,      0.9375,      0.9375,      0.9375,      0.9375,      0.9375,      0.9375,      0.9375,      0.9375,      0.9375,      0.9375,      0.9375,      0.9375,      0.9375,      0.9375,      0.9375,\n",
       "             0.9375,      0.9375,     0.86364,     0.86364,     0.86364,     0.86364,     0.86364,     0.86364,     0.86364,     0.86364,     0.86364,     0.86364,     0.86364,     0.86364,     0.86364,     0.86364,     0.86364,     0.86364,     0.86364,     0.86364,     0.86364,     0.86364,     0.86364,\n",
       "            0.86364,     0.86364,     0.86364,     0.86364,     0.86364,     0.86364,     0.86364,     0.86364,     0.86364,     0.86364,     0.86364,     0.86364,     0.86364,     0.86364,     0.86364,     0.86364,     0.86364,     0.86364,     0.86364,     0.86364,     0.86364,     0.86364,     0.86364,\n",
       "            0.86364,     0.86364,     0.86364,     0.86364,     0.86364,     0.86364,     0.86364,     0.86364,     0.86364,     0.86364,     0.86364,     0.86364,     0.86364,     0.86364,     0.86364,     0.86364,     0.86364,     0.86364,     0.86364,     0.86364,     0.86364,     0.86364,     0.86364,\n",
       "            0.86364,     0.86364,     0.86364,     0.86364,     0.86364,     0.86364,     0.86364,     0.86364,     0.86364,     0.86364,     0.86364,     0.86364,     0.86364,     0.86364,     0.86364,     0.86364,     0.86364,     0.86364,     0.86364,     0.86364,     0.86364,     0.86364,     0.86364,\n",
       "            0.86364,     0.86364,     0.86364,     0.86364,     0.86364,     0.86364,     0.86364,     0.86364,     0.86364,     0.86364,     0.86364,     0.86364,     0.86364,     0.86364,     0.86364,     0.86364,     0.86364,     0.86364,     0.86364,     0.86364,     0.86364,     0.86364,     0.86364,\n",
       "            0.86364,     0.86364,     0.86364,     0.86364,     0.86364,     0.86364,     0.86364,     0.86364,     0.86364,     0.86364,     0.86364,     0.86364,     0.86364,     0.86364,     0.86364,     0.86364,     0.86364,     0.86364,     0.86364,     0.86364,     0.86364,     0.86364,     0.86364,\n",
       "            0.86364,     0.86364,     0.86364,     0.86364,     0.86364,     0.86364,     0.86364,     0.86364,     0.86364,     0.86364,     0.86364,     0.86364,     0.86364,     0.86364,     0.86364,     0.86364,     0.86364,     0.86364,     0.83333,     0.83333,     0.83333,     0.83333,     0.83333,\n",
       "            0.83333,     0.83333,     0.83333,     0.83333,     0.83333,     0.83333,     0.83333,     0.83333,     0.83333,     0.83333,     0.83333,     0.83333,     0.83333,     0.83333,     0.83333,     0.83333,     0.83333,     0.83333,     0.83333,     0.83333,     0.83333,     0.83333,     0.83333,\n",
       "            0.83333,     0.83333,     0.83333,     0.83333,     0.83333,     0.83333,     0.83333,     0.83333,     0.83333,     0.83333,     0.80645,     0.80645,     0.80645,     0.80645,     0.80645,     0.80645,     0.80645,     0.80645,     0.80645,     0.80645,     0.80645,     0.80645,     0.80645,\n",
       "            0.80645,     0.80645,     0.80645,     0.80645,     0.80645,     0.80645,     0.80645,     0.80645,     0.80645,     0.80645,     0.80645,     0.80645,     0.80645,     0.80645,     0.80645,     0.80645,     0.80645,     0.80645,     0.80645,     0.80645,     0.80645,     0.80645,     0.80645,\n",
       "            0.80645,     0.80645,     0.80645,     0.80645,     0.80645,     0.80645,     0.80645,     0.80645,     0.80645,     0.80645,     0.80645,     0.80645,     0.80645,     0.80645,     0.80645,     0.80645,     0.80645,     0.80645,     0.80645,     0.80645,     0.80645,     0.80645,     0.80645,\n",
       "            0.80645,     0.80645,     0.80645,     0.80645,     0.80645,     0.80645,     0.80645,     0.80645,     0.80645,     0.80645,     0.80645,     0.80645,     0.80645,     0.80645,     0.80645,     0.80645,     0.80645,     0.80645,     0.80645,     0.80645,     0.80645,     0.80645,     0.80645,\n",
       "            0.80645,     0.80645,     0.80645,     0.80645,     0.80645,     0.80645,     0.80645,     0.80645,     0.80645,     0.80645,     0.80645,     0.80645,     0.80645,     0.80645,     0.80645,     0.80645,     0.80645,     0.80645,     0.80645,     0.80645,     0.80645,     0.80645,     0.80645,\n",
       "            0.80645,     0.80645,     0.80645,     0.80645,     0.80645,     0.80645,     0.80645,     0.80645,     0.80645,     0.80645,     0.80645,     0.80645,     0.80645,     0.80645,     0.80645,     0.80645,     0.80645,     0.80645,     0.80645,     0.80645,     0.80645,     0.80645,     0.80645,\n",
       "            0.80645,     0.80645,     0.80645,     0.80645,     0.80645,     0.80645,     0.80645,     0.80645,     0.80645,     0.80645,     0.80645,     0.80645,     0.80645,     0.80645,     0.80645,     0.80645,     0.80645,     0.80645,     0.80645,     0.80645,     0.80645,     0.80645,     0.80645,\n",
       "            0.80645,     0.80645,     0.80645,     0.80645,     0.80645,     0.80645,     0.80645,     0.80645,     0.80645,     0.80645,     0.80645,     0.80645,     0.80645,     0.80645,     0.80645,     0.80645,     0.80645,     0.80645,     0.80645,     0.80645,     0.80645,     0.80645,     0.80645,\n",
       "            0.80645,     0.80645,     0.80645,     0.80645,     0.80645,     0.80645,     0.80645,     0.80645,     0.80645,     0.80645,     0.80645,     0.80645,     0.80645,     0.80645,     0.80645,     0.80645,     0.80645,     0.80645,     0.68421,     0.68421,     0.68421,     0.68421,     0.68421,\n",
       "            0.68421,     0.68421,     0.68421,     0.68421,     0.68421,     0.68421,     0.68421,     0.68421,     0.68421,     0.68421,     0.68421,     0.68421,     0.68421,     0.68421,     0.68421,     0.68421,     0.68421,     0.68421,     0.68421,     0.68421,     0.68421,     0.68421,     0.68421,\n",
       "            0.68421,     0.68421,     0.68421,     0.68421,     0.68421,     0.68421,     0.68421,     0.68421,     0.68421,     0.68421,           0]]), 'Recall', 'Precision'], [array([          0,    0.001001,    0.002002,    0.003003,    0.004004,    0.005005,    0.006006,    0.007007,    0.008008,    0.009009,     0.01001,    0.011011,    0.012012,    0.013013,    0.014014,    0.015015,    0.016016,    0.017017,    0.018018,    0.019019,     0.02002,    0.021021,    0.022022,    0.023023,\n",
       "          0.024024,    0.025025,    0.026026,    0.027027,    0.028028,    0.029029,     0.03003,    0.031031,    0.032032,    0.033033,    0.034034,    0.035035,    0.036036,    0.037037,    0.038038,    0.039039,     0.04004,    0.041041,    0.042042,    0.043043,    0.044044,    0.045045,    0.046046,    0.047047,\n",
       "          0.048048,    0.049049,     0.05005,    0.051051,    0.052052,    0.053053,    0.054054,    0.055055,    0.056056,    0.057057,    0.058058,    0.059059,     0.06006,    0.061061,    0.062062,    0.063063,    0.064064,    0.065065,    0.066066,    0.067067,    0.068068,    0.069069,     0.07007,    0.071071,\n",
       "          0.072072,    0.073073,    0.074074,    0.075075,    0.076076,    0.077077,    0.078078,    0.079079,     0.08008,    0.081081,    0.082082,    0.083083,    0.084084,    0.085085,    0.086086,    0.087087,    0.088088,    0.089089,     0.09009,    0.091091,    0.092092,    0.093093,    0.094094,    0.095095,\n",
       "          0.096096,    0.097097,    0.098098,    0.099099,      0.1001,      0.1011,      0.1021,      0.1031,      0.1041,     0.10511,     0.10611,     0.10711,     0.10811,     0.10911,     0.11011,     0.11111,     0.11211,     0.11311,     0.11411,     0.11512,     0.11612,     0.11712,     0.11812,     0.11912,\n",
       "           0.12012,     0.12112,     0.12212,     0.12312,     0.12412,     0.12513,     0.12613,     0.12713,     0.12813,     0.12913,     0.13013,     0.13113,     0.13213,     0.13313,     0.13413,     0.13514,     0.13614,     0.13714,     0.13814,     0.13914,     0.14014,     0.14114,     0.14214,     0.14314,\n",
       "           0.14414,     0.14515,     0.14615,     0.14715,     0.14815,     0.14915,     0.15015,     0.15115,     0.15215,     0.15315,     0.15415,     0.15516,     0.15616,     0.15716,     0.15816,     0.15916,     0.16016,     0.16116,     0.16216,     0.16316,     0.16416,     0.16517,     0.16617,     0.16717,\n",
       "           0.16817,     0.16917,     0.17017,     0.17117,     0.17217,     0.17317,     0.17417,     0.17518,     0.17618,     0.17718,     0.17818,     0.17918,     0.18018,     0.18118,     0.18218,     0.18318,     0.18418,     0.18519,     0.18619,     0.18719,     0.18819,     0.18919,     0.19019,     0.19119,\n",
       "           0.19219,     0.19319,     0.19419,      0.1952,      0.1962,      0.1972,      0.1982,      0.1992,      0.2002,      0.2012,      0.2022,      0.2032,      0.2042,     0.20521,     0.20621,     0.20721,     0.20821,     0.20921,     0.21021,     0.21121,     0.21221,     0.21321,     0.21421,     0.21522,\n",
       "           0.21622,     0.21722,     0.21822,     0.21922,     0.22022,     0.22122,     0.22222,     0.22322,     0.22422,     0.22523,     0.22623,     0.22723,     0.22823,     0.22923,     0.23023,     0.23123,     0.23223,     0.23323,     0.23423,     0.23524,     0.23624,     0.23724,     0.23824,     0.23924,\n",
       "           0.24024,     0.24124,     0.24224,     0.24324,     0.24424,     0.24525,     0.24625,     0.24725,     0.24825,     0.24925,     0.25025,     0.25125,     0.25225,     0.25325,     0.25425,     0.25526,     0.25626,     0.25726,     0.25826,     0.25926,     0.26026,     0.26126,     0.26226,     0.26326,\n",
       "           0.26426,     0.26527,     0.26627,     0.26727,     0.26827,     0.26927,     0.27027,     0.27127,     0.27227,     0.27327,     0.27427,     0.27528,     0.27628,     0.27728,     0.27828,     0.27928,     0.28028,     0.28128,     0.28228,     0.28328,     0.28428,     0.28529,     0.28629,     0.28729,\n",
       "           0.28829,     0.28929,     0.29029,     0.29129,     0.29229,     0.29329,     0.29429,      0.2953,      0.2963,      0.2973,      0.2983,      0.2993,      0.3003,      0.3013,      0.3023,      0.3033,      0.3043,     0.30531,     0.30631,     0.30731,     0.30831,     0.30931,     0.31031,     0.31131,\n",
       "           0.31231,     0.31331,     0.31431,     0.31532,     0.31632,     0.31732,     0.31832,     0.31932,     0.32032,     0.32132,     0.32232,     0.32332,     0.32432,     0.32533,     0.32633,     0.32733,     0.32833,     0.32933,     0.33033,     0.33133,     0.33233,     0.33333,     0.33433,     0.33534,\n",
       "           0.33634,     0.33734,     0.33834,     0.33934,     0.34034,     0.34134,     0.34234,     0.34334,     0.34434,     0.34535,     0.34635,     0.34735,     0.34835,     0.34935,     0.35035,     0.35135,     0.35235,     0.35335,     0.35435,     0.35536,     0.35636,     0.35736,     0.35836,     0.35936,\n",
       "           0.36036,     0.36136,     0.36236,     0.36336,     0.36436,     0.36537,     0.36637,     0.36737,     0.36837,     0.36937,     0.37037,     0.37137,     0.37237,     0.37337,     0.37437,     0.37538,     0.37638,     0.37738,     0.37838,     0.37938,     0.38038,     0.38138,     0.38238,     0.38338,\n",
       "           0.38438,     0.38539,     0.38639,     0.38739,     0.38839,     0.38939,     0.39039,     0.39139,     0.39239,     0.39339,     0.39439,      0.3954,      0.3964,      0.3974,      0.3984,      0.3994,      0.4004,      0.4014,      0.4024,      0.4034,      0.4044,     0.40541,     0.40641,     0.40741,\n",
       "           0.40841,     0.40941,     0.41041,     0.41141,     0.41241,     0.41341,     0.41441,     0.41542,     0.41642,     0.41742,     0.41842,     0.41942,     0.42042,     0.42142,     0.42242,     0.42342,     0.42442,     0.42543,     0.42643,     0.42743,     0.42843,     0.42943,     0.43043,     0.43143,\n",
       "           0.43243,     0.43343,     0.43443,     0.43544,     0.43644,     0.43744,     0.43844,     0.43944,     0.44044,     0.44144,     0.44244,     0.44344,     0.44444,     0.44545,     0.44645,     0.44745,     0.44845,     0.44945,     0.45045,     0.45145,     0.45245,     0.45345,     0.45445,     0.45546,\n",
       "           0.45646,     0.45746,     0.45846,     0.45946,     0.46046,     0.46146,     0.46246,     0.46346,     0.46446,     0.46547,     0.46647,     0.46747,     0.46847,     0.46947,     0.47047,     0.47147,     0.47247,     0.47347,     0.47447,     0.47548,     0.47648,     0.47748,     0.47848,     0.47948,\n",
       "           0.48048,     0.48148,     0.48248,     0.48348,     0.48448,     0.48549,     0.48649,     0.48749,     0.48849,     0.48949,     0.49049,     0.49149,     0.49249,     0.49349,     0.49449,      0.4955,      0.4965,      0.4975,      0.4985,      0.4995,      0.5005,      0.5015,      0.5025,      0.5035,\n",
       "            0.5045,     0.50551,     0.50651,     0.50751,     0.50851,     0.50951,     0.51051,     0.51151,     0.51251,     0.51351,     0.51451,     0.51552,     0.51652,     0.51752,     0.51852,     0.51952,     0.52052,     0.52152,     0.52252,     0.52352,     0.52452,     0.52553,     0.52653,     0.52753,\n",
       "           0.52853,     0.52953,     0.53053,     0.53153,     0.53253,     0.53353,     0.53453,     0.53554,     0.53654,     0.53754,     0.53854,     0.53954,     0.54054,     0.54154,     0.54254,     0.54354,     0.54454,     0.54555,     0.54655,     0.54755,     0.54855,     0.54955,     0.55055,     0.55155,\n",
       "           0.55255,     0.55355,     0.55455,     0.55556,     0.55656,     0.55756,     0.55856,     0.55956,     0.56056,     0.56156,     0.56256,     0.56356,     0.56456,     0.56557,     0.56657,     0.56757,     0.56857,     0.56957,     0.57057,     0.57157,     0.57257,     0.57357,     0.57457,     0.57558,\n",
       "           0.57658,     0.57758,     0.57858,     0.57958,     0.58058,     0.58158,     0.58258,     0.58358,     0.58458,     0.58559,     0.58659,     0.58759,     0.58859,     0.58959,     0.59059,     0.59159,     0.59259,     0.59359,     0.59459,      0.5956,      0.5966,      0.5976,      0.5986,      0.5996,\n",
       "            0.6006,      0.6016,      0.6026,      0.6036,      0.6046,     0.60561,     0.60661,     0.60761,     0.60861,     0.60961,     0.61061,     0.61161,     0.61261,     0.61361,     0.61461,     0.61562,     0.61662,     0.61762,     0.61862,     0.61962,     0.62062,     0.62162,     0.62262,     0.62362,\n",
       "           0.62462,     0.62563,     0.62663,     0.62763,     0.62863,     0.62963,     0.63063,     0.63163,     0.63263,     0.63363,     0.63463,     0.63564,     0.63664,     0.63764,     0.63864,     0.63964,     0.64064,     0.64164,     0.64264,     0.64364,     0.64464,     0.64565,     0.64665,     0.64765,\n",
       "           0.64865,     0.64965,     0.65065,     0.65165,     0.65265,     0.65365,     0.65465,     0.65566,     0.65666,     0.65766,     0.65866,     0.65966,     0.66066,     0.66166,     0.66266,     0.66366,     0.66466,     0.66567,     0.66667,     0.66767,     0.66867,     0.66967,     0.67067,     0.67167,\n",
       "           0.67267,     0.67367,     0.67467,     0.67568,     0.67668,     0.67768,     0.67868,     0.67968,     0.68068,     0.68168,     0.68268,     0.68368,     0.68468,     0.68569,     0.68669,     0.68769,     0.68869,     0.68969,     0.69069,     0.69169,     0.69269,     0.69369,     0.69469,      0.6957,\n",
       "            0.6967,      0.6977,      0.6987,      0.6997,      0.7007,      0.7017,      0.7027,      0.7037,      0.7047,     0.70571,     0.70671,     0.70771,     0.70871,     0.70971,     0.71071,     0.71171,     0.71271,     0.71371,     0.71471,     0.71572,     0.71672,     0.71772,     0.71872,     0.71972,\n",
       "           0.72072,     0.72172,     0.72272,     0.72372,     0.72472,     0.72573,     0.72673,     0.72773,     0.72873,     0.72973,     0.73073,     0.73173,     0.73273,     0.73373,     0.73473,     0.73574,     0.73674,     0.73774,     0.73874,     0.73974,     0.74074,     0.74174,     0.74274,     0.74374,\n",
       "           0.74474,     0.74575,     0.74675,     0.74775,     0.74875,     0.74975,     0.75075,     0.75175,     0.75275,     0.75375,     0.75475,     0.75576,     0.75676,     0.75776,     0.75876,     0.75976,     0.76076,     0.76176,     0.76276,     0.76376,     0.76476,     0.76577,     0.76677,     0.76777,\n",
       "           0.76877,     0.76977,     0.77077,     0.77177,     0.77277,     0.77377,     0.77477,     0.77578,     0.77678,     0.77778,     0.77878,     0.77978,     0.78078,     0.78178,     0.78278,     0.78378,     0.78478,     0.78579,     0.78679,     0.78779,     0.78879,     0.78979,     0.79079,     0.79179,\n",
       "           0.79279,     0.79379,     0.79479,      0.7958,      0.7968,      0.7978,      0.7988,      0.7998,      0.8008,      0.8018,      0.8028,      0.8038,      0.8048,     0.80581,     0.80681,     0.80781,     0.80881,     0.80981,     0.81081,     0.81181,     0.81281,     0.81381,     0.81481,     0.81582,\n",
       "           0.81682,     0.81782,     0.81882,     0.81982,     0.82082,     0.82182,     0.82282,     0.82382,     0.82482,     0.82583,     0.82683,     0.82783,     0.82883,     0.82983,     0.83083,     0.83183,     0.83283,     0.83383,     0.83483,     0.83584,     0.83684,     0.83784,     0.83884,     0.83984,\n",
       "           0.84084,     0.84184,     0.84284,     0.84384,     0.84484,     0.84585,     0.84685,     0.84785,     0.84885,     0.84985,     0.85085,     0.85185,     0.85285,     0.85385,     0.85485,     0.85586,     0.85686,     0.85786,     0.85886,     0.85986,     0.86086,     0.86186,     0.86286,     0.86386,\n",
       "           0.86486,     0.86587,     0.86687,     0.86787,     0.86887,     0.86987,     0.87087,     0.87187,     0.87287,     0.87387,     0.87487,     0.87588,     0.87688,     0.87788,     0.87888,     0.87988,     0.88088,     0.88188,     0.88288,     0.88388,     0.88488,     0.88589,     0.88689,     0.88789,\n",
       "           0.88889,     0.88989,     0.89089,     0.89189,     0.89289,     0.89389,     0.89489,      0.8959,      0.8969,      0.8979,      0.8989,      0.8999,      0.9009,      0.9019,      0.9029,      0.9039,      0.9049,     0.90591,     0.90691,     0.90791,     0.90891,     0.90991,     0.91091,     0.91191,\n",
       "           0.91291,     0.91391,     0.91491,     0.91592,     0.91692,     0.91792,     0.91892,     0.91992,     0.92092,     0.92192,     0.92292,     0.92392,     0.92492,     0.92593,     0.92693,     0.92793,     0.92893,     0.92993,     0.93093,     0.93193,     0.93293,     0.93393,     0.93493,     0.93594,\n",
       "           0.93694,     0.93794,     0.93894,     0.93994,     0.94094,     0.94194,     0.94294,     0.94394,     0.94494,     0.94595,     0.94695,     0.94795,     0.94895,     0.94995,     0.95095,     0.95195,     0.95295,     0.95395,     0.95495,     0.95596,     0.95696,     0.95796,     0.95896,     0.95996,\n",
       "           0.96096,     0.96196,     0.96296,     0.96396,     0.96496,     0.96597,     0.96697,     0.96797,     0.96897,     0.96997,     0.97097,     0.97197,     0.97297,     0.97397,     0.97497,     0.97598,     0.97698,     0.97798,     0.97898,     0.97998,     0.98098,     0.98198,     0.98298,     0.98398,\n",
       "           0.98498,     0.98599,     0.98699,     0.98799,     0.98899,     0.98999,     0.99099,     0.99199,     0.99299,     0.99399,     0.99499,       0.996,       0.997,       0.998,       0.999,           1]), array([[   0.028478,    0.028478,    0.028478,    0.028478,    0.041964,    0.048606,     0.05134,    0.053271,    0.059588,    0.070665,    0.087521,     0.11084,     0.13164,     0.14756,     0.16544,     0.19021,     0.21563,     0.24349,     0.26465,     0.29036,     0.31882,     0.34555,      0.3659,\n",
       "            0.39292,     0.40489,     0.42433,     0.44036,     0.45597,     0.47198,     0.49627,     0.50056,     0.50714,     0.51358,     0.52785,     0.54136,     0.54492,     0.55087,     0.56676,      0.5727,     0.57623,     0.58405,     0.59518,     0.59998,      0.6043,     0.61421,     0.61703,\n",
       "            0.62164,     0.62722,     0.62876,     0.63029,     0.63182,     0.63334,     0.63684,     0.64227,     0.64534,     0.64839,     0.65271,     0.65828,        0.66,     0.66172,     0.66343,     0.66513,     0.66676,     0.66773,     0.66871,     0.66968,     0.67065,     0.67162,     0.67259,\n",
       "            0.67355,     0.67452,     0.68634,     0.69432,      0.6962,     0.69807,     0.69994,      0.7018,     0.70304,      0.7037,     0.70436,     0.70501,     0.70567,     0.70633,     0.70698,     0.70764,     0.70829,     0.70894,      0.7096,     0.71025,      0.7109,     0.71155,      0.7122,\n",
       "             0.7226,     0.72528,     0.72794,     0.73059,     0.73275,     0.73386,     0.73498,     0.73609,     0.73719,      0.7383,     0.73941,     0.74051,     0.74161,     0.74271,     0.74835,     0.75638,     0.76751,     0.77303,     0.77905,     0.78572,     0.79784,     0.80096,     0.80208,\n",
       "             0.8032,     0.80432,     0.80544,     0.80656,     0.80767,     0.80878,     0.80989,       0.811,      0.8121,      0.8062,     0.79629,     0.79417,     0.79488,     0.79558,     0.79629,     0.79699,      0.7977,      0.7984,      0.7991,      0.7998,      0.8005,      0.8012,      0.8019,\n",
       "            0.80259,     0.80329,     0.80399,     0.80468,     0.80537,     0.80607,     0.80688,     0.80784,      0.8088,     0.80976,     0.81072,     0.81167,     0.81263,     0.81358,     0.81453,     0.81548,     0.81642,     0.81737,     0.81831,     0.81926,     0.83343,     0.83426,     0.83509,\n",
       "            0.83592,     0.83675,     0.83758,      0.8384,     0.83922,     0.84005,     0.84087,     0.84169,     0.84251,     0.84333,     0.84414,     0.84496,     0.84577,     0.84659,      0.8474,     0.84924,     0.85116,     0.85308,     0.85499,     0.85689,     0.85878,     0.86067,     0.86259,\n",
       "             0.8646,     0.86661,     0.86862,     0.87061,      0.8726,     0.87458,     0.87655,     0.87513,     0.87206,     0.86897,     0.86588,     0.86277,     0.85965,     0.85702,      0.8564,     0.85577,     0.85515,     0.85452,      0.8539,     0.85327,     0.85264,     0.85202,     0.85139,\n",
       "            0.85076,     0.85014,     0.84951,     0.84888,     0.84825,     0.84762,     0.84699,     0.84636,     0.84573,      0.8451,     0.84446,     0.84383,      0.8432,     0.84256,     0.84193,      0.8413,     0.84066,     0.84003,     0.83939,     0.83875,     0.83812,     0.83748,     0.83684,\n",
       "            0.83611,      0.8351,     0.83408,     0.83306,     0.83204,     0.83102,        0.83,     0.82898,     0.82796,     0.82693,     0.82591,     0.82488,     0.82385,     0.82282,     0.82179,     0.82076,     0.81973,      0.8187,     0.81766,     0.81663,     0.81559,     0.81403,     0.81094,\n",
       "            0.80785,     0.80474,     0.80162,     0.79849,     0.79536,     0.79239,     0.79164,     0.79089,     0.79014,     0.78939,     0.78864,     0.78789,     0.78714,     0.78638,     0.78563,     0.78487,     0.78412,     0.78336,     0.78261,     0.78185,     0.78109,     0.78033,     0.77957,\n",
       "            0.77881,     0.77805,     0.77729,     0.77653,     0.77577,     0.77501,     0.77424,     0.77348,     0.77272,     0.77195,     0.77119,     0.77042,     0.76965,     0.77028,     0.77262,     0.77494,     0.77724,     0.77953,     0.78181,     0.78407,     0.79974,     0.79799,     0.79624,\n",
       "            0.79448,     0.79272,     0.79096,      0.7892,     0.78742,     0.78565,     0.78387,     0.78209,     0.78031,     0.77852,     0.77672,     0.77702,     0.78162,     0.78615,     0.79063,     0.78901,     0.78554,     0.78205,     0.77855,     0.77503,     0.77149,     0.76794,     0.76549,\n",
       "            0.76442,     0.76335,     0.76228,     0.76121,     0.76013,     0.75906,     0.75798,     0.75691,     0.75583,     0.75475,     0.75367,     0.75258,      0.7515,     0.75041,     0.74932,     0.74824,     0.74715,     0.74605,     0.74496,     0.74387,     0.74277,     0.74167,     0.74057,\n",
       "            0.73947,      0.7364,     0.73243,     0.72844,     0.72443,     0.72041,     0.71636,     0.71229,     0.70858,       0.705,     0.70141,     0.69781,     0.69419,     0.69055,      0.6869,     0.68324,     0.68199,     0.68226,     0.68254,     0.68281,     0.68309,     0.68336,     0.68364,\n",
       "            0.68391,     0.68419,     0.68446,     0.68473,       0.685,     0.68528,     0.68555,     0.68582,     0.68609,     0.68636,     0.68663,      0.6869,     0.68717,     0.68744,     0.68771,     0.68798,     0.68825,     0.68852,     0.68879,     0.68906,     0.68932,     0.68959,     0.68986,\n",
       "            0.69013,     0.69039,     0.69066,     0.69092,     0.69119,     0.69145,     0.69172,     0.69198,     0.69225,     0.69251,     0.69278,     0.69304,      0.6933,     0.69357,     0.69383,     0.69409,     0.69435,     0.69461,     0.69487,     0.69514,      0.6954,     0.69566,     0.69592,\n",
       "            0.69618,     0.69644,      0.6967,     0.69695,     0.69721,     0.69747,     0.69795,     0.69923,      0.7005,     0.70177,     0.70303,     0.70428,     0.70553,     0.70677,       0.708,     0.70922,     0.71044,     0.71165,     0.71286,     0.71406,     0.68155,     0.67809,     0.67462,\n",
       "            0.67113,     0.66763,     0.66411,     0.66057,     0.65702,     0.65345,     0.64419,     0.61492,     0.61435,     0.61377,      0.6132,     0.61262,     0.61205,     0.61147,     0.61089,     0.61032,     0.60974,     0.60916,     0.60858,       0.608,     0.60743,     0.60685,     0.60627,\n",
       "            0.60569,     0.60511,     0.60452,     0.60394,     0.60336,     0.60278,      0.6022,     0.60161,     0.60103,     0.60044,     0.59986,     0.59928,     0.59869,      0.5981,     0.59752,     0.59693,     0.59634,     0.59576,     0.59517,     0.59458,     0.59399,      0.5934,     0.59281,\n",
       "            0.59222,     0.59163,     0.59104,     0.59045,     0.58986,     0.58926,     0.58867,     0.58808,     0.58748,     0.58689,      0.5863,      0.5857,      0.5851,     0.58451,     0.58391,     0.58332,     0.58272,     0.58212,     0.58152,     0.58092,     0.58032,     0.57972,     0.57912,\n",
       "            0.57829,     0.57735,     0.57642,     0.57548,     0.57454,      0.5736,     0.57266,     0.57172,     0.57078,     0.56984,     0.56889,     0.56795,       0.567,     0.56605,     0.56511,     0.56416,      0.5632,     0.56225,      0.5613,     0.56035,     0.55939,     0.55843,     0.55748,\n",
       "            0.55652,     0.55556,      0.5546,     0.55363,     0.55267,     0.55171,     0.55074,     0.54977,     0.54881,     0.54784,     0.54687,      0.5459,     0.54492,     0.54395,     0.54298,       0.542,     0.54102,     0.54038,     0.54006,     0.53974,     0.53942,      0.5391,     0.53878,\n",
       "            0.53846,     0.53815,     0.53783,     0.53751,     0.53719,     0.53687,     0.53655,     0.53623,     0.53591,     0.53559,     0.53526,     0.53494,     0.53462,      0.5343,     0.53398,     0.53366,     0.53334,     0.53302,      0.5327,     0.53237,     0.53205,     0.53173,     0.53141,\n",
       "            0.53109,     0.53076,     0.53044,     0.53012,      0.5298,     0.52947,     0.52915,     0.52883,     0.52851,     0.52818,     0.52786,     0.52754,     0.52721,     0.52689,     0.52656,     0.52624,     0.52592,     0.52559,     0.52527,     0.52494,     0.52462,     0.52429,     0.52397,\n",
       "            0.52364,     0.52332,     0.52299,     0.52267,     0.52234,     0.52202,     0.52169,     0.52137,     0.52104,     0.52071,     0.52039,     0.52006,     0.51974,     0.51941,     0.51908,     0.51876,     0.51843,      0.5181,     0.51777,     0.51745,     0.51712,     0.51679,     0.51646,\n",
       "            0.51614,     0.51581,     0.51548,     0.51515,     0.51482,     0.51449,     0.51417,     0.51384,     0.51351,     0.51318,     0.51285,     0.51252,     0.51219,     0.51186,     0.51153,      0.5112,     0.51087,     0.51054,     0.51021,     0.50988,     0.50955,     0.50922,     0.50889,\n",
       "            0.50856,     0.50823,      0.5079,     0.50757,     0.50724,      0.5069,     0.50657,     0.50624,     0.50591,     0.50558,     0.50525,     0.50491,     0.50458,     0.50425,     0.50392,     0.50358,     0.50325,     0.50292,     0.50258,     0.50225,     0.50192,     0.50158,     0.50125,\n",
       "            0.50092,     0.50058,     0.50025,     0.49957,     0.49789,      0.4962,     0.49451,     0.49282,     0.49113,     0.48943,     0.48772,     0.48602,     0.48431,      0.4826,     0.48088,     0.47916,     0.47744,     0.47572,     0.47399,     0.47226,     0.47052,     0.46878,     0.46704,\n",
       "            0.46529,     0.46354,     0.46179,     0.46003,     0.45827,     0.45649,     0.45467,     0.45285,     0.45103,      0.4492,     0.44737,     0.44553,     0.44369,     0.44185,        0.44,     0.43815,     0.43629,     0.43444,     0.43257,     0.43071,     0.42884,     0.42697,     0.42509,\n",
       "            0.42321,     0.42132,     0.41943,     0.41754,     0.41564,     0.41374,     0.41184,     0.41052,     0.40922,     0.40791,     0.40661,      0.4053,       0.404,     0.40269,     0.40138,     0.40006,     0.39875,     0.39743,     0.39611,     0.39479,     0.39347,     0.39215,     0.39082,\n",
       "            0.38949,     0.38817,     0.38684,      0.3855,     0.38417,     0.38283,     0.38149,     0.38015,     0.37881,     0.37747,     0.37612,     0.37477,     0.37342,     0.37207,     0.37072,     0.36936,     0.36801,     0.36665,     0.36529,     0.36392,     0.32501,     0.31168,     0.31058,\n",
       "            0.30948,     0.30838,     0.30728,     0.30618,     0.30508,     0.30397,     0.30287,     0.30176,     0.30065,     0.29955,     0.29844,     0.29733,     0.29622,      0.2951,     0.29399,     0.29287,     0.29176,     0.29064,     0.28952,      0.2884,     0.28728,     0.28616,     0.28504,\n",
       "            0.28392,     0.28279,     0.28166,     0.28054,     0.27941,     0.27828,     0.27715,     0.27602,     0.27488,     0.27375,     0.27261,     0.27148,     0.27034,      0.2692,     0.26806,     0.26692,     0.26577,     0.26463,     0.26348,     0.26234,     0.26119,     0.26004,     0.25889,\n",
       "            0.25227,     0.23178,     0.21093,     0.20027,     0.20082,     0.20135,     0.20187,     0.20236,     0.20284,      0.2033,     0.20375,     0.20418,      0.2046,     0.20501,      0.2054,     0.20579,     0.20616,     0.20652,     0.20687,     0.20313,     0.19899,     0.19482,     0.19064,\n",
       "            0.18643,     0.18221,     0.17796,      0.1737,     0.16942,     0.16511,     0.16079,     0.15644,     0.15208,     0.14769,     0.14329,     0.14162,     0.14025,     0.13887,      0.1375,     0.13612,     0.13474,     0.13336,     0.13197,     0.13059,      0.1292,     0.12781,     0.12642,\n",
       "            0.12502,     0.12362,     0.12223,     0.12083,     0.11942,     0.11802,     0.11661,      0.1152,     0.11379,     0.11238,     0.11096,     0.10954,     0.10812,      0.1067,     0.10528,     0.10385,     0.10242,     0.10099,    0.099561,    0.098126,    0.096689,     0.09525,    0.093808,\n",
       "           0.092365,    0.090919,    0.089471,    0.088021,    0.086569,    0.085114,    0.083658,    0.082199,    0.080738,    0.079274,    0.077809,    0.076341,    0.074871,           0,           0,           0,           0,           0,           0,           0,           0,           0,           0,\n",
       "                  0,           0,           0,           0,           0,           0,           0,           0,           0,           0,           0,           0,           0,           0,           0,           0,           0,           0,           0,           0,           0,           0,           0,\n",
       "                  0,           0,           0,           0,           0,           0,           0,           0,           0,           0,           0,           0,           0,           0,           0,           0,           0,           0,           0,           0,           0,           0,           0,\n",
       "                  0,           0,           0,           0,           0,           0,           0,           0,           0,           0,           0,           0,           0,           0,           0,           0,           0,           0,           0,           0,           0,           0,           0,\n",
       "                  0,           0,           0,           0,           0,           0,           0,           0,           0,           0,           0,           0,           0,           0,           0,           0,           0,           0,           0,           0,           0,           0,           0,\n",
       "                  0,           0,           0,           0,           0,           0,           0,           0,           0,           0,           0]]), 'Confidence', 'F1'], [array([          0,    0.001001,    0.002002,    0.003003,    0.004004,    0.005005,    0.006006,    0.007007,    0.008008,    0.009009,     0.01001,    0.011011,    0.012012,    0.013013,    0.014014,    0.015015,    0.016016,    0.017017,    0.018018,    0.019019,     0.02002,    0.021021,    0.022022,    0.023023,\n",
       "          0.024024,    0.025025,    0.026026,    0.027027,    0.028028,    0.029029,     0.03003,    0.031031,    0.032032,    0.033033,    0.034034,    0.035035,    0.036036,    0.037037,    0.038038,    0.039039,     0.04004,    0.041041,    0.042042,    0.043043,    0.044044,    0.045045,    0.046046,    0.047047,\n",
       "          0.048048,    0.049049,     0.05005,    0.051051,    0.052052,    0.053053,    0.054054,    0.055055,    0.056056,    0.057057,    0.058058,    0.059059,     0.06006,    0.061061,    0.062062,    0.063063,    0.064064,    0.065065,    0.066066,    0.067067,    0.068068,    0.069069,     0.07007,    0.071071,\n",
       "          0.072072,    0.073073,    0.074074,    0.075075,    0.076076,    0.077077,    0.078078,    0.079079,     0.08008,    0.081081,    0.082082,    0.083083,    0.084084,    0.085085,    0.086086,    0.087087,    0.088088,    0.089089,     0.09009,    0.091091,    0.092092,    0.093093,    0.094094,    0.095095,\n",
       "          0.096096,    0.097097,    0.098098,    0.099099,      0.1001,      0.1011,      0.1021,      0.1031,      0.1041,     0.10511,     0.10611,     0.10711,     0.10811,     0.10911,     0.11011,     0.11111,     0.11211,     0.11311,     0.11411,     0.11512,     0.11612,     0.11712,     0.11812,     0.11912,\n",
       "           0.12012,     0.12112,     0.12212,     0.12312,     0.12412,     0.12513,     0.12613,     0.12713,     0.12813,     0.12913,     0.13013,     0.13113,     0.13213,     0.13313,     0.13413,     0.13514,     0.13614,     0.13714,     0.13814,     0.13914,     0.14014,     0.14114,     0.14214,     0.14314,\n",
       "           0.14414,     0.14515,     0.14615,     0.14715,     0.14815,     0.14915,     0.15015,     0.15115,     0.15215,     0.15315,     0.15415,     0.15516,     0.15616,     0.15716,     0.15816,     0.15916,     0.16016,     0.16116,     0.16216,     0.16316,     0.16416,     0.16517,     0.16617,     0.16717,\n",
       "           0.16817,     0.16917,     0.17017,     0.17117,     0.17217,     0.17317,     0.17417,     0.17518,     0.17618,     0.17718,     0.17818,     0.17918,     0.18018,     0.18118,     0.18218,     0.18318,     0.18418,     0.18519,     0.18619,     0.18719,     0.18819,     0.18919,     0.19019,     0.19119,\n",
       "           0.19219,     0.19319,     0.19419,      0.1952,      0.1962,      0.1972,      0.1982,      0.1992,      0.2002,      0.2012,      0.2022,      0.2032,      0.2042,     0.20521,     0.20621,     0.20721,     0.20821,     0.20921,     0.21021,     0.21121,     0.21221,     0.21321,     0.21421,     0.21522,\n",
       "           0.21622,     0.21722,     0.21822,     0.21922,     0.22022,     0.22122,     0.22222,     0.22322,     0.22422,     0.22523,     0.22623,     0.22723,     0.22823,     0.22923,     0.23023,     0.23123,     0.23223,     0.23323,     0.23423,     0.23524,     0.23624,     0.23724,     0.23824,     0.23924,\n",
       "           0.24024,     0.24124,     0.24224,     0.24324,     0.24424,     0.24525,     0.24625,     0.24725,     0.24825,     0.24925,     0.25025,     0.25125,     0.25225,     0.25325,     0.25425,     0.25526,     0.25626,     0.25726,     0.25826,     0.25926,     0.26026,     0.26126,     0.26226,     0.26326,\n",
       "           0.26426,     0.26527,     0.26627,     0.26727,     0.26827,     0.26927,     0.27027,     0.27127,     0.27227,     0.27327,     0.27427,     0.27528,     0.27628,     0.27728,     0.27828,     0.27928,     0.28028,     0.28128,     0.28228,     0.28328,     0.28428,     0.28529,     0.28629,     0.28729,\n",
       "           0.28829,     0.28929,     0.29029,     0.29129,     0.29229,     0.29329,     0.29429,      0.2953,      0.2963,      0.2973,      0.2983,      0.2993,      0.3003,      0.3013,      0.3023,      0.3033,      0.3043,     0.30531,     0.30631,     0.30731,     0.30831,     0.30931,     0.31031,     0.31131,\n",
       "           0.31231,     0.31331,     0.31431,     0.31532,     0.31632,     0.31732,     0.31832,     0.31932,     0.32032,     0.32132,     0.32232,     0.32332,     0.32432,     0.32533,     0.32633,     0.32733,     0.32833,     0.32933,     0.33033,     0.33133,     0.33233,     0.33333,     0.33433,     0.33534,\n",
       "           0.33634,     0.33734,     0.33834,     0.33934,     0.34034,     0.34134,     0.34234,     0.34334,     0.34434,     0.34535,     0.34635,     0.34735,     0.34835,     0.34935,     0.35035,     0.35135,     0.35235,     0.35335,     0.35435,     0.35536,     0.35636,     0.35736,     0.35836,     0.35936,\n",
       "           0.36036,     0.36136,     0.36236,     0.36336,     0.36436,     0.36537,     0.36637,     0.36737,     0.36837,     0.36937,     0.37037,     0.37137,     0.37237,     0.37337,     0.37437,     0.37538,     0.37638,     0.37738,     0.37838,     0.37938,     0.38038,     0.38138,     0.38238,     0.38338,\n",
       "           0.38438,     0.38539,     0.38639,     0.38739,     0.38839,     0.38939,     0.39039,     0.39139,     0.39239,     0.39339,     0.39439,      0.3954,      0.3964,      0.3974,      0.3984,      0.3994,      0.4004,      0.4014,      0.4024,      0.4034,      0.4044,     0.40541,     0.40641,     0.40741,\n",
       "           0.40841,     0.40941,     0.41041,     0.41141,     0.41241,     0.41341,     0.41441,     0.41542,     0.41642,     0.41742,     0.41842,     0.41942,     0.42042,     0.42142,     0.42242,     0.42342,     0.42442,     0.42543,     0.42643,     0.42743,     0.42843,     0.42943,     0.43043,     0.43143,\n",
       "           0.43243,     0.43343,     0.43443,     0.43544,     0.43644,     0.43744,     0.43844,     0.43944,     0.44044,     0.44144,     0.44244,     0.44344,     0.44444,     0.44545,     0.44645,     0.44745,     0.44845,     0.44945,     0.45045,     0.45145,     0.45245,     0.45345,     0.45445,     0.45546,\n",
       "           0.45646,     0.45746,     0.45846,     0.45946,     0.46046,     0.46146,     0.46246,     0.46346,     0.46446,     0.46547,     0.46647,     0.46747,     0.46847,     0.46947,     0.47047,     0.47147,     0.47247,     0.47347,     0.47447,     0.47548,     0.47648,     0.47748,     0.47848,     0.47948,\n",
       "           0.48048,     0.48148,     0.48248,     0.48348,     0.48448,     0.48549,     0.48649,     0.48749,     0.48849,     0.48949,     0.49049,     0.49149,     0.49249,     0.49349,     0.49449,      0.4955,      0.4965,      0.4975,      0.4985,      0.4995,      0.5005,      0.5015,      0.5025,      0.5035,\n",
       "            0.5045,     0.50551,     0.50651,     0.50751,     0.50851,     0.50951,     0.51051,     0.51151,     0.51251,     0.51351,     0.51451,     0.51552,     0.51652,     0.51752,     0.51852,     0.51952,     0.52052,     0.52152,     0.52252,     0.52352,     0.52452,     0.52553,     0.52653,     0.52753,\n",
       "           0.52853,     0.52953,     0.53053,     0.53153,     0.53253,     0.53353,     0.53453,     0.53554,     0.53654,     0.53754,     0.53854,     0.53954,     0.54054,     0.54154,     0.54254,     0.54354,     0.54454,     0.54555,     0.54655,     0.54755,     0.54855,     0.54955,     0.55055,     0.55155,\n",
       "           0.55255,     0.55355,     0.55455,     0.55556,     0.55656,     0.55756,     0.55856,     0.55956,     0.56056,     0.56156,     0.56256,     0.56356,     0.56456,     0.56557,     0.56657,     0.56757,     0.56857,     0.56957,     0.57057,     0.57157,     0.57257,     0.57357,     0.57457,     0.57558,\n",
       "           0.57658,     0.57758,     0.57858,     0.57958,     0.58058,     0.58158,     0.58258,     0.58358,     0.58458,     0.58559,     0.58659,     0.58759,     0.58859,     0.58959,     0.59059,     0.59159,     0.59259,     0.59359,     0.59459,      0.5956,      0.5966,      0.5976,      0.5986,      0.5996,\n",
       "            0.6006,      0.6016,      0.6026,      0.6036,      0.6046,     0.60561,     0.60661,     0.60761,     0.60861,     0.60961,     0.61061,     0.61161,     0.61261,     0.61361,     0.61461,     0.61562,     0.61662,     0.61762,     0.61862,     0.61962,     0.62062,     0.62162,     0.62262,     0.62362,\n",
       "           0.62462,     0.62563,     0.62663,     0.62763,     0.62863,     0.62963,     0.63063,     0.63163,     0.63263,     0.63363,     0.63463,     0.63564,     0.63664,     0.63764,     0.63864,     0.63964,     0.64064,     0.64164,     0.64264,     0.64364,     0.64464,     0.64565,     0.64665,     0.64765,\n",
       "           0.64865,     0.64965,     0.65065,     0.65165,     0.65265,     0.65365,     0.65465,     0.65566,     0.65666,     0.65766,     0.65866,     0.65966,     0.66066,     0.66166,     0.66266,     0.66366,     0.66466,     0.66567,     0.66667,     0.66767,     0.66867,     0.66967,     0.67067,     0.67167,\n",
       "           0.67267,     0.67367,     0.67467,     0.67568,     0.67668,     0.67768,     0.67868,     0.67968,     0.68068,     0.68168,     0.68268,     0.68368,     0.68468,     0.68569,     0.68669,     0.68769,     0.68869,     0.68969,     0.69069,     0.69169,     0.69269,     0.69369,     0.69469,      0.6957,\n",
       "            0.6967,      0.6977,      0.6987,      0.6997,      0.7007,      0.7017,      0.7027,      0.7037,      0.7047,     0.70571,     0.70671,     0.70771,     0.70871,     0.70971,     0.71071,     0.71171,     0.71271,     0.71371,     0.71471,     0.71572,     0.71672,     0.71772,     0.71872,     0.71972,\n",
       "           0.72072,     0.72172,     0.72272,     0.72372,     0.72472,     0.72573,     0.72673,     0.72773,     0.72873,     0.72973,     0.73073,     0.73173,     0.73273,     0.73373,     0.73473,     0.73574,     0.73674,     0.73774,     0.73874,     0.73974,     0.74074,     0.74174,     0.74274,     0.74374,\n",
       "           0.74474,     0.74575,     0.74675,     0.74775,     0.74875,     0.74975,     0.75075,     0.75175,     0.75275,     0.75375,     0.75475,     0.75576,     0.75676,     0.75776,     0.75876,     0.75976,     0.76076,     0.76176,     0.76276,     0.76376,     0.76476,     0.76577,     0.76677,     0.76777,\n",
       "           0.76877,     0.76977,     0.77077,     0.77177,     0.77277,     0.77377,     0.77477,     0.77578,     0.77678,     0.77778,     0.77878,     0.77978,     0.78078,     0.78178,     0.78278,     0.78378,     0.78478,     0.78579,     0.78679,     0.78779,     0.78879,     0.78979,     0.79079,     0.79179,\n",
       "           0.79279,     0.79379,     0.79479,      0.7958,      0.7968,      0.7978,      0.7988,      0.7998,      0.8008,      0.8018,      0.8028,      0.8038,      0.8048,     0.80581,     0.80681,     0.80781,     0.80881,     0.80981,     0.81081,     0.81181,     0.81281,     0.81381,     0.81481,     0.81582,\n",
       "           0.81682,     0.81782,     0.81882,     0.81982,     0.82082,     0.82182,     0.82282,     0.82382,     0.82482,     0.82583,     0.82683,     0.82783,     0.82883,     0.82983,     0.83083,     0.83183,     0.83283,     0.83383,     0.83483,     0.83584,     0.83684,     0.83784,     0.83884,     0.83984,\n",
       "           0.84084,     0.84184,     0.84284,     0.84384,     0.84484,     0.84585,     0.84685,     0.84785,     0.84885,     0.84985,     0.85085,     0.85185,     0.85285,     0.85385,     0.85485,     0.85586,     0.85686,     0.85786,     0.85886,     0.85986,     0.86086,     0.86186,     0.86286,     0.86386,\n",
       "           0.86486,     0.86587,     0.86687,     0.86787,     0.86887,     0.86987,     0.87087,     0.87187,     0.87287,     0.87387,     0.87487,     0.87588,     0.87688,     0.87788,     0.87888,     0.87988,     0.88088,     0.88188,     0.88288,     0.88388,     0.88488,     0.88589,     0.88689,     0.88789,\n",
       "           0.88889,     0.88989,     0.89089,     0.89189,     0.89289,     0.89389,     0.89489,      0.8959,      0.8969,      0.8979,      0.8989,      0.8999,      0.9009,      0.9019,      0.9029,      0.9039,      0.9049,     0.90591,     0.90691,     0.90791,     0.90891,     0.90991,     0.91091,     0.91191,\n",
       "           0.91291,     0.91391,     0.91491,     0.91592,     0.91692,     0.91792,     0.91892,     0.91992,     0.92092,     0.92192,     0.92292,     0.92392,     0.92492,     0.92593,     0.92693,     0.92793,     0.92893,     0.92993,     0.93093,     0.93193,     0.93293,     0.93393,     0.93493,     0.93594,\n",
       "           0.93694,     0.93794,     0.93894,     0.93994,     0.94094,     0.94194,     0.94294,     0.94394,     0.94494,     0.94595,     0.94695,     0.94795,     0.94895,     0.94995,     0.95095,     0.95195,     0.95295,     0.95395,     0.95495,     0.95596,     0.95696,     0.95796,     0.95896,     0.95996,\n",
       "           0.96096,     0.96196,     0.96296,     0.96396,     0.96496,     0.96597,     0.96697,     0.96797,     0.96897,     0.96997,     0.97097,     0.97197,     0.97297,     0.97397,     0.97497,     0.97598,     0.97698,     0.97798,     0.97898,     0.97998,     0.98098,     0.98198,     0.98298,     0.98398,\n",
       "           0.98498,     0.98599,     0.98699,     0.98799,     0.98899,     0.98999,     0.99099,     0.99199,     0.99299,     0.99399,     0.99499,       0.996,       0.997,       0.998,       0.999,           1]), array([[   0.014444,    0.014444,    0.014444,    0.014444,    0.021432,    0.024908,    0.026346,    0.027364,    0.030709,    0.036627,    0.045763,    0.058674,     0.07046,    0.079658,    0.090179,      0.1051,     0.12084,     0.13862,     0.15251,     0.16984,     0.18964,     0.20886,     0.22392,\n",
       "            0.24449,     0.25383,      0.2693,     0.28235,     0.29531,     0.30889,     0.33002,     0.33383,     0.33971,     0.34552,     0.35855,     0.37114,      0.3745,     0.38014,     0.39544,     0.40125,     0.40472,     0.41248,     0.42367,     0.42855,     0.43298,     0.44322,     0.44616,\n",
       "              0.451,      0.4569,     0.45853,     0.46016,     0.46179,     0.46342,     0.46718,     0.47305,     0.47638,     0.47972,     0.48446,     0.49063,     0.49254,     0.49445,     0.49636,     0.49827,     0.50011,      0.5012,      0.5023,      0.5034,     0.50449,     0.50559,     0.50669,\n",
       "            0.50778,     0.50888,     0.52247,     0.53177,     0.53398,     0.53618,     0.53839,     0.54059,     0.54207,     0.54285,     0.54363,     0.54442,      0.5452,     0.54598,     0.54677,     0.54755,     0.54833,     0.54912,      0.5499,     0.55068,     0.55147,     0.55225,     0.55303,\n",
       "            0.56568,     0.56897,     0.57225,     0.57554,     0.57822,     0.57961,       0.581,     0.58239,     0.58377,     0.58516,     0.58655,     0.58794,     0.58933,     0.59072,     0.59789,      0.6082,     0.62273,     0.63003,     0.63807,     0.64707,     0.66367,       0.668,     0.66957,\n",
       "            0.67113,     0.67269,     0.67426,     0.67582,     0.67739,     0.67895,     0.68052,     0.68208,     0.68365,     0.68134,     0.67686,     0.67643,     0.67746,     0.67848,     0.67951,     0.68053,     0.68156,     0.68259,     0.68361,     0.68464,     0.68566,     0.68669,     0.68772,\n",
       "            0.68874,     0.68977,      0.6908,     0.69182,     0.69285,     0.69387,     0.69508,     0.69651,     0.69794,     0.69937,     0.70079,     0.70222,     0.70365,     0.70508,     0.70651,     0.70794,     0.70937,      0.7108,     0.71223,     0.71365,     0.73544,     0.73674,     0.73804,\n",
       "            0.73933,     0.74063,     0.74192,     0.74322,     0.74452,     0.74581,     0.74711,     0.74841,      0.7497,       0.751,      0.7523,     0.75359,     0.75489,     0.75618,     0.75748,     0.76044,     0.76352,     0.76661,     0.76969,     0.77278,     0.77587,     0.77895,      0.7821,\n",
       "            0.78542,     0.78875,     0.79207,     0.79539,     0.79872,     0.80204,     0.80537,     0.80578,     0.80478,     0.80379,     0.80279,      0.8018,      0.8008,     0.79996,     0.79975,     0.79954,     0.79933,     0.79912,     0.79891,      0.7987,     0.79849,     0.79828,     0.79807,\n",
       "            0.79787,     0.79766,     0.79745,     0.79724,     0.79703,     0.79682,     0.79661,      0.7964,     0.79619,     0.79598,     0.79577,     0.79556,     0.79535,     0.79514,     0.79494,     0.79473,     0.79452,     0.79431,      0.7941,     0.79389,     0.79368,     0.79347,     0.79326,\n",
       "            0.79302,     0.79266,     0.79231,     0.79196,     0.79161,     0.79126,      0.7909,     0.79055,      0.7902,     0.78985,      0.7895,     0.78914,     0.78879,     0.78844,     0.78809,     0.78774,     0.78738,     0.78703,     0.78668,     0.78633,     0.78598,     0.78543,     0.78433,\n",
       "            0.78322,     0.78212,     0.78101,      0.7799,      0.7788,     0.77776,     0.77748,      0.7772,     0.77692,     0.77664,     0.77636,     0.77608,      0.7758,     0.77552,     0.77524,     0.77497,     0.77469,     0.77441,     0.77413,     0.77385,     0.77357,     0.77329,     0.77301,\n",
       "            0.77273,     0.77245,     0.77217,      0.7719,     0.77162,     0.77134,     0.77106,     0.77078,      0.7705,     0.77022,     0.76994,     0.76966,     0.76938,     0.77134,     0.77603,     0.78073,     0.78542,     0.79011,     0.79481,      0.7995,     0.83326,     0.83273,     0.83221,\n",
       "            0.83168,     0.83116,     0.83063,     0.83011,     0.82959,     0.82906,     0.82854,     0.82801,     0.82749,     0.82697,     0.82644,     0.82951,     0.84007,     0.85062,     0.86117,     0.86296,     0.86207,     0.86118,      0.8603,     0.85941,     0.85852,     0.85764,     0.85702,\n",
       "            0.85673,     0.85644,     0.85615,     0.85586,     0.85557,     0.85528,       0.855,     0.85471,     0.85442,     0.85413,     0.85384,     0.85355,     0.85326,     0.85298,     0.85269,      0.8524,     0.85211,     0.85182,     0.85153,     0.85124,     0.85096,     0.85067,     0.85038,\n",
       "            0.85009,     0.84922,     0.84809,     0.84696,     0.84583,      0.8447,     0.84356,     0.84243,     0.84134,     0.84025,     0.83917,     0.83809,       0.837,     0.83592,     0.83484,     0.83375,     0.83384,     0.83467,     0.83549,     0.83632,     0.83714,     0.83797,     0.83879,\n",
       "            0.83962,     0.84044,     0.84127,     0.84209,     0.84292,     0.84374,     0.84457,     0.84539,     0.84622,     0.84704,     0.84787,     0.84869,     0.84952,     0.85034,     0.85117,       0.852,     0.85282,     0.85365,     0.85447,      0.8553,     0.85612,     0.85695,     0.85777,\n",
       "             0.8586,     0.85942,     0.86025,     0.86107,      0.8619,     0.86272,     0.86355,     0.86437,      0.8652,     0.86602,     0.86685,     0.86767,      0.8685,     0.86933,     0.87015,     0.87098,      0.8718,     0.87263,     0.87345,     0.87428,      0.8751,     0.87593,     0.87675,\n",
       "            0.87758,      0.8784,     0.87923,     0.88005,     0.88088,      0.8817,     0.88323,     0.88734,     0.89146,     0.89557,     0.89969,      0.9038,     0.90791,     0.91203,     0.91614,     0.92026,     0.92437,     0.92848,      0.9326,     0.93671,     0.93313,     0.93262,     0.93211,\n",
       "             0.9316,     0.93109,     0.93059,     0.93008,     0.92957,     0.92906,     0.92763,     0.92299,     0.92289,     0.92279,     0.92268,     0.92258,     0.92248,     0.92237,     0.92227,     0.92217,     0.92206,     0.92196,     0.92186,     0.92175,     0.92165,     0.92155,     0.92145,\n",
       "            0.92134,     0.92124,     0.92114,     0.92103,     0.92093,     0.92083,     0.92072,     0.92062,     0.92052,     0.92041,     0.92031,     0.92021,      0.9201,        0.92,      0.9199,     0.91979,     0.91969,     0.91959,     0.91948,     0.91938,     0.91928,     0.91917,     0.91907,\n",
       "            0.91897,     0.91886,     0.91876,     0.91866,     0.91856,     0.91845,     0.91835,     0.91825,     0.91814,     0.91804,     0.91794,     0.91783,     0.91773,     0.91763,     0.91752,     0.91742,     0.91732,     0.91721,     0.91711,     0.91701,      0.9169,      0.9168,      0.9167,\n",
       "            0.91653,     0.91635,     0.91616,     0.91597,     0.91578,     0.91559,      0.9154,     0.91521,     0.91503,     0.91484,     0.91465,     0.91446,     0.91427,     0.91408,      0.9139,     0.91371,     0.91352,     0.91333,     0.91314,     0.91295,     0.91276,     0.91258,     0.91239,\n",
       "             0.9122,     0.91201,     0.91182,     0.91163,     0.91145,     0.91126,     0.91107,     0.91088,     0.91069,      0.9105,     0.91031,     0.91013,     0.90994,     0.90975,     0.90956,     0.90937,     0.90918,     0.90905,     0.90898,     0.90891,     0.90883,     0.90876,     0.90869,\n",
       "            0.90861,     0.90854,     0.90847,      0.9084,     0.90832,     0.90825,     0.90818,      0.9081,     0.90803,     0.90796,     0.90788,     0.90781,     0.90774,     0.90766,     0.90759,     0.90752,     0.90744,     0.90737,      0.9073,     0.90722,     0.90715,     0.90708,     0.90701,\n",
       "            0.90693,     0.90686,     0.90679,     0.90671,     0.90664,     0.90657,     0.90649,     0.90642,     0.90635,     0.90627,      0.9062,     0.90613,     0.90605,     0.90598,     0.90591,     0.90583,     0.90576,     0.90569,     0.90562,     0.90554,     0.90547,      0.9054,     0.90532,\n",
       "            0.90525,     0.90518,      0.9051,     0.90503,     0.90496,     0.90488,     0.90481,     0.90474,     0.90466,     0.90459,     0.90452,     0.90444,     0.90437,      0.9043,     0.90422,     0.90415,     0.90408,     0.90401,     0.90393,     0.90386,     0.90379,     0.90371,     0.90364,\n",
       "            0.90357,     0.90349,     0.90342,     0.90335,     0.90327,      0.9032,     0.90313,     0.90305,     0.90298,     0.90291,     0.90283,     0.90276,     0.90269,     0.90262,     0.90254,     0.90247,      0.9024,     0.90232,     0.90225,     0.90218,      0.9021,     0.90203,     0.90196,\n",
       "            0.90188,     0.90181,     0.90174,     0.90166,     0.90159,     0.90152,     0.90144,     0.90137,      0.9013,     0.90123,     0.90115,     0.90108,     0.90101,     0.90093,     0.90086,     0.90079,     0.90071,     0.90064,     0.90057,     0.90049,     0.90042,     0.90035,     0.90027,\n",
       "             0.9002,     0.90013,     0.90005,     0.89989,     0.89944,     0.89899,     0.89855,      0.8981,     0.89765,     0.89721,     0.89676,     0.89632,     0.89587,     0.89542,     0.89498,     0.89453,     0.89408,     0.89364,     0.89319,     0.89275,      0.8923,     0.89185,     0.89141,\n",
       "            0.89096,     0.89051,     0.89007,     0.88962,     0.88918,     0.88868,     0.88812,     0.88755,     0.88698,     0.88641,     0.88584,     0.88527,      0.8847,     0.88413,     0.88356,     0.88299,     0.88242,     0.88185,     0.88128,     0.88072,     0.88015,     0.87958,     0.87901,\n",
       "            0.87844,     0.87787,      0.8773,     0.87673,     0.87616,     0.87559,     0.87502,     0.87453,     0.87403,     0.87354,     0.87304,     0.87255,     0.87206,     0.87156,     0.87107,     0.87058,     0.87008,     0.86959,      0.8691,      0.8686,     0.86811,     0.86761,     0.86712,\n",
       "            0.86663,     0.86613,     0.86564,     0.86515,     0.86465,     0.86416,     0.86366,     0.86317,     0.86268,     0.86218,     0.86169,      0.8612,      0.8607,     0.86021,     0.85972,     0.85922,     0.85873,     0.85823,     0.85774,     0.85725,     0.83905,     0.83282,     0.83213,\n",
       "            0.83144,     0.83075,     0.83007,     0.82938,     0.82869,       0.828,     0.82731,     0.82663,     0.82594,     0.82525,     0.82456,     0.82388,     0.82319,      0.8225,     0.82181,     0.82112,     0.82044,     0.81975,     0.81906,     0.81837,     0.81769,       0.817,     0.81631,\n",
       "            0.81562,     0.81493,     0.81425,     0.81356,     0.81287,     0.81218,      0.8115,     0.81081,     0.81012,     0.80943,     0.80874,     0.80806,     0.80737,     0.80668,     0.80599,     0.80531,     0.80462,     0.80393,     0.80324,     0.80255,     0.80187,     0.80118,     0.80049,\n",
       "             0.7949,     0.77706,     0.75922,     0.75775,     0.77381,     0.78986,     0.80592,     0.82197,     0.83803,     0.85408,     0.87014,      0.8862,     0.90225,     0.91831,     0.93436,     0.95042,     0.96647,     0.98253,     0.99858,           1,           1,           1,           1,\n",
       "                  1,           1,           1,           1,           1,           1,           1,           1,           1,           1,           1,           1,           1,           1,           1,           1,           1,           1,           1,           1,           1,           1,           1,\n",
       "                  1,           1,           1,           1,           1,           1,           1,           1,           1,           1,           1,           1,           1,           1,           1,           1,           1,           1,           1,           1,           1,           1,           1,\n",
       "                  1,           1,           1,           1,           1,           1,           1,           1,           1,           1,           1,           1,           1,           1,           1,           1,           1,           1,           1,           1,           1,           1,           1,\n",
       "                  1,           1,           1,           1,           1,           1,           1,           1,           1,           1,           1,           1,           1,           1,           1,           1,           1,           1,           1,           1,           1,           1,           1,\n",
       "                  1,           1,           1,           1,           1,           1,           1,           1,           1,           1,           1,           1,           1,           1,           1,           1,           1,           1,           1,           1,           1,           1,           1,\n",
       "                  1,           1,           1,           1,           1,           1,           1,           1,           1,           1,           1,           1,           1,           1,           1,           1,           1,           1,           1,           1,           1,           1,           1,\n",
       "                  1,           1,           1,           1,           1,           1,           1,           1,           1,           1,           1,           1,           1,           1,           1,           1,           1,           1,           1,           1,           1,           1,           1,\n",
       "                  1,           1,           1,           1,           1,           1,           1,           1,           1,           1,           1]]), 'Confidence', 'Precision'], [array([          0,    0.001001,    0.002002,    0.003003,    0.004004,    0.005005,    0.006006,    0.007007,    0.008008,    0.009009,     0.01001,    0.011011,    0.012012,    0.013013,    0.014014,    0.015015,    0.016016,    0.017017,    0.018018,    0.019019,     0.02002,    0.021021,    0.022022,    0.023023,\n",
       "          0.024024,    0.025025,    0.026026,    0.027027,    0.028028,    0.029029,     0.03003,    0.031031,    0.032032,    0.033033,    0.034034,    0.035035,    0.036036,    0.037037,    0.038038,    0.039039,     0.04004,    0.041041,    0.042042,    0.043043,    0.044044,    0.045045,    0.046046,    0.047047,\n",
       "          0.048048,    0.049049,     0.05005,    0.051051,    0.052052,    0.053053,    0.054054,    0.055055,    0.056056,    0.057057,    0.058058,    0.059059,     0.06006,    0.061061,    0.062062,    0.063063,    0.064064,    0.065065,    0.066066,    0.067067,    0.068068,    0.069069,     0.07007,    0.071071,\n",
       "          0.072072,    0.073073,    0.074074,    0.075075,    0.076076,    0.077077,    0.078078,    0.079079,     0.08008,    0.081081,    0.082082,    0.083083,    0.084084,    0.085085,    0.086086,    0.087087,    0.088088,    0.089089,     0.09009,    0.091091,    0.092092,    0.093093,    0.094094,    0.095095,\n",
       "          0.096096,    0.097097,    0.098098,    0.099099,      0.1001,      0.1011,      0.1021,      0.1031,      0.1041,     0.10511,     0.10611,     0.10711,     0.10811,     0.10911,     0.11011,     0.11111,     0.11211,     0.11311,     0.11411,     0.11512,     0.11612,     0.11712,     0.11812,     0.11912,\n",
       "           0.12012,     0.12112,     0.12212,     0.12312,     0.12412,     0.12513,     0.12613,     0.12713,     0.12813,     0.12913,     0.13013,     0.13113,     0.13213,     0.13313,     0.13413,     0.13514,     0.13614,     0.13714,     0.13814,     0.13914,     0.14014,     0.14114,     0.14214,     0.14314,\n",
       "           0.14414,     0.14515,     0.14615,     0.14715,     0.14815,     0.14915,     0.15015,     0.15115,     0.15215,     0.15315,     0.15415,     0.15516,     0.15616,     0.15716,     0.15816,     0.15916,     0.16016,     0.16116,     0.16216,     0.16316,     0.16416,     0.16517,     0.16617,     0.16717,\n",
       "           0.16817,     0.16917,     0.17017,     0.17117,     0.17217,     0.17317,     0.17417,     0.17518,     0.17618,     0.17718,     0.17818,     0.17918,     0.18018,     0.18118,     0.18218,     0.18318,     0.18418,     0.18519,     0.18619,     0.18719,     0.18819,     0.18919,     0.19019,     0.19119,\n",
       "           0.19219,     0.19319,     0.19419,      0.1952,      0.1962,      0.1972,      0.1982,      0.1992,      0.2002,      0.2012,      0.2022,      0.2032,      0.2042,     0.20521,     0.20621,     0.20721,     0.20821,     0.20921,     0.21021,     0.21121,     0.21221,     0.21321,     0.21421,     0.21522,\n",
       "           0.21622,     0.21722,     0.21822,     0.21922,     0.22022,     0.22122,     0.22222,     0.22322,     0.22422,     0.22523,     0.22623,     0.22723,     0.22823,     0.22923,     0.23023,     0.23123,     0.23223,     0.23323,     0.23423,     0.23524,     0.23624,     0.23724,     0.23824,     0.23924,\n",
       "           0.24024,     0.24124,     0.24224,     0.24324,     0.24424,     0.24525,     0.24625,     0.24725,     0.24825,     0.24925,     0.25025,     0.25125,     0.25225,     0.25325,     0.25425,     0.25526,     0.25626,     0.25726,     0.25826,     0.25926,     0.26026,     0.26126,     0.26226,     0.26326,\n",
       "           0.26426,     0.26527,     0.26627,     0.26727,     0.26827,     0.26927,     0.27027,     0.27127,     0.27227,     0.27327,     0.27427,     0.27528,     0.27628,     0.27728,     0.27828,     0.27928,     0.28028,     0.28128,     0.28228,     0.28328,     0.28428,     0.28529,     0.28629,     0.28729,\n",
       "           0.28829,     0.28929,     0.29029,     0.29129,     0.29229,     0.29329,     0.29429,      0.2953,      0.2963,      0.2973,      0.2983,      0.2993,      0.3003,      0.3013,      0.3023,      0.3033,      0.3043,     0.30531,     0.30631,     0.30731,     0.30831,     0.30931,     0.31031,     0.31131,\n",
       "           0.31231,     0.31331,     0.31431,     0.31532,     0.31632,     0.31732,     0.31832,     0.31932,     0.32032,     0.32132,     0.32232,     0.32332,     0.32432,     0.32533,     0.32633,     0.32733,     0.32833,     0.32933,     0.33033,     0.33133,     0.33233,     0.33333,     0.33433,     0.33534,\n",
       "           0.33634,     0.33734,     0.33834,     0.33934,     0.34034,     0.34134,     0.34234,     0.34334,     0.34434,     0.34535,     0.34635,     0.34735,     0.34835,     0.34935,     0.35035,     0.35135,     0.35235,     0.35335,     0.35435,     0.35536,     0.35636,     0.35736,     0.35836,     0.35936,\n",
       "           0.36036,     0.36136,     0.36236,     0.36336,     0.36436,     0.36537,     0.36637,     0.36737,     0.36837,     0.36937,     0.37037,     0.37137,     0.37237,     0.37337,     0.37437,     0.37538,     0.37638,     0.37738,     0.37838,     0.37938,     0.38038,     0.38138,     0.38238,     0.38338,\n",
       "           0.38438,     0.38539,     0.38639,     0.38739,     0.38839,     0.38939,     0.39039,     0.39139,     0.39239,     0.39339,     0.39439,      0.3954,      0.3964,      0.3974,      0.3984,      0.3994,      0.4004,      0.4014,      0.4024,      0.4034,      0.4044,     0.40541,     0.40641,     0.40741,\n",
       "           0.40841,     0.40941,     0.41041,     0.41141,     0.41241,     0.41341,     0.41441,     0.41542,     0.41642,     0.41742,     0.41842,     0.41942,     0.42042,     0.42142,     0.42242,     0.42342,     0.42442,     0.42543,     0.42643,     0.42743,     0.42843,     0.42943,     0.43043,     0.43143,\n",
       "           0.43243,     0.43343,     0.43443,     0.43544,     0.43644,     0.43744,     0.43844,     0.43944,     0.44044,     0.44144,     0.44244,     0.44344,     0.44444,     0.44545,     0.44645,     0.44745,     0.44845,     0.44945,     0.45045,     0.45145,     0.45245,     0.45345,     0.45445,     0.45546,\n",
       "           0.45646,     0.45746,     0.45846,     0.45946,     0.46046,     0.46146,     0.46246,     0.46346,     0.46446,     0.46547,     0.46647,     0.46747,     0.46847,     0.46947,     0.47047,     0.47147,     0.47247,     0.47347,     0.47447,     0.47548,     0.47648,     0.47748,     0.47848,     0.47948,\n",
       "           0.48048,     0.48148,     0.48248,     0.48348,     0.48448,     0.48549,     0.48649,     0.48749,     0.48849,     0.48949,     0.49049,     0.49149,     0.49249,     0.49349,     0.49449,      0.4955,      0.4965,      0.4975,      0.4985,      0.4995,      0.5005,      0.5015,      0.5025,      0.5035,\n",
       "            0.5045,     0.50551,     0.50651,     0.50751,     0.50851,     0.50951,     0.51051,     0.51151,     0.51251,     0.51351,     0.51451,     0.51552,     0.51652,     0.51752,     0.51852,     0.51952,     0.52052,     0.52152,     0.52252,     0.52352,     0.52452,     0.52553,     0.52653,     0.52753,\n",
       "           0.52853,     0.52953,     0.53053,     0.53153,     0.53253,     0.53353,     0.53453,     0.53554,     0.53654,     0.53754,     0.53854,     0.53954,     0.54054,     0.54154,     0.54254,     0.54354,     0.54454,     0.54555,     0.54655,     0.54755,     0.54855,     0.54955,     0.55055,     0.55155,\n",
       "           0.55255,     0.55355,     0.55455,     0.55556,     0.55656,     0.55756,     0.55856,     0.55956,     0.56056,     0.56156,     0.56256,     0.56356,     0.56456,     0.56557,     0.56657,     0.56757,     0.56857,     0.56957,     0.57057,     0.57157,     0.57257,     0.57357,     0.57457,     0.57558,\n",
       "           0.57658,     0.57758,     0.57858,     0.57958,     0.58058,     0.58158,     0.58258,     0.58358,     0.58458,     0.58559,     0.58659,     0.58759,     0.58859,     0.58959,     0.59059,     0.59159,     0.59259,     0.59359,     0.59459,      0.5956,      0.5966,      0.5976,      0.5986,      0.5996,\n",
       "            0.6006,      0.6016,      0.6026,      0.6036,      0.6046,     0.60561,     0.60661,     0.60761,     0.60861,     0.60961,     0.61061,     0.61161,     0.61261,     0.61361,     0.61461,     0.61562,     0.61662,     0.61762,     0.61862,     0.61962,     0.62062,     0.62162,     0.62262,     0.62362,\n",
       "           0.62462,     0.62563,     0.62663,     0.62763,     0.62863,     0.62963,     0.63063,     0.63163,     0.63263,     0.63363,     0.63463,     0.63564,     0.63664,     0.63764,     0.63864,     0.63964,     0.64064,     0.64164,     0.64264,     0.64364,     0.64464,     0.64565,     0.64665,     0.64765,\n",
       "           0.64865,     0.64965,     0.65065,     0.65165,     0.65265,     0.65365,     0.65465,     0.65566,     0.65666,     0.65766,     0.65866,     0.65966,     0.66066,     0.66166,     0.66266,     0.66366,     0.66466,     0.66567,     0.66667,     0.66767,     0.66867,     0.66967,     0.67067,     0.67167,\n",
       "           0.67267,     0.67367,     0.67467,     0.67568,     0.67668,     0.67768,     0.67868,     0.67968,     0.68068,     0.68168,     0.68268,     0.68368,     0.68468,     0.68569,     0.68669,     0.68769,     0.68869,     0.68969,     0.69069,     0.69169,     0.69269,     0.69369,     0.69469,      0.6957,\n",
       "            0.6967,      0.6977,      0.6987,      0.6997,      0.7007,      0.7017,      0.7027,      0.7037,      0.7047,     0.70571,     0.70671,     0.70771,     0.70871,     0.70971,     0.71071,     0.71171,     0.71271,     0.71371,     0.71471,     0.71572,     0.71672,     0.71772,     0.71872,     0.71972,\n",
       "           0.72072,     0.72172,     0.72272,     0.72372,     0.72472,     0.72573,     0.72673,     0.72773,     0.72873,     0.72973,     0.73073,     0.73173,     0.73273,     0.73373,     0.73473,     0.73574,     0.73674,     0.73774,     0.73874,     0.73974,     0.74074,     0.74174,     0.74274,     0.74374,\n",
       "           0.74474,     0.74575,     0.74675,     0.74775,     0.74875,     0.74975,     0.75075,     0.75175,     0.75275,     0.75375,     0.75475,     0.75576,     0.75676,     0.75776,     0.75876,     0.75976,     0.76076,     0.76176,     0.76276,     0.76376,     0.76476,     0.76577,     0.76677,     0.76777,\n",
       "           0.76877,     0.76977,     0.77077,     0.77177,     0.77277,     0.77377,     0.77477,     0.77578,     0.77678,     0.77778,     0.77878,     0.77978,     0.78078,     0.78178,     0.78278,     0.78378,     0.78478,     0.78579,     0.78679,     0.78779,     0.78879,     0.78979,     0.79079,     0.79179,\n",
       "           0.79279,     0.79379,     0.79479,      0.7958,      0.7968,      0.7978,      0.7988,      0.7998,      0.8008,      0.8018,      0.8028,      0.8038,      0.8048,     0.80581,     0.80681,     0.80781,     0.80881,     0.80981,     0.81081,     0.81181,     0.81281,     0.81381,     0.81481,     0.81582,\n",
       "           0.81682,     0.81782,     0.81882,     0.81982,     0.82082,     0.82182,     0.82282,     0.82382,     0.82482,     0.82583,     0.82683,     0.82783,     0.82883,     0.82983,     0.83083,     0.83183,     0.83283,     0.83383,     0.83483,     0.83584,     0.83684,     0.83784,     0.83884,     0.83984,\n",
       "           0.84084,     0.84184,     0.84284,     0.84384,     0.84484,     0.84585,     0.84685,     0.84785,     0.84885,     0.84985,     0.85085,     0.85185,     0.85285,     0.85385,     0.85485,     0.85586,     0.85686,     0.85786,     0.85886,     0.85986,     0.86086,     0.86186,     0.86286,     0.86386,\n",
       "           0.86486,     0.86587,     0.86687,     0.86787,     0.86887,     0.86987,     0.87087,     0.87187,     0.87287,     0.87387,     0.87487,     0.87588,     0.87688,     0.87788,     0.87888,     0.87988,     0.88088,     0.88188,     0.88288,     0.88388,     0.88488,     0.88589,     0.88689,     0.88789,\n",
       "           0.88889,     0.88989,     0.89089,     0.89189,     0.89289,     0.89389,     0.89489,      0.8959,      0.8969,      0.8979,      0.8989,      0.8999,      0.9009,      0.9019,      0.9029,      0.9039,      0.9049,     0.90591,     0.90691,     0.90791,     0.90891,     0.90991,     0.91091,     0.91191,\n",
       "           0.91291,     0.91391,     0.91491,     0.91592,     0.91692,     0.91792,     0.91892,     0.91992,     0.92092,     0.92192,     0.92292,     0.92392,     0.92492,     0.92593,     0.92693,     0.92793,     0.92893,     0.92993,     0.93093,     0.93193,     0.93293,     0.93393,     0.93493,     0.93594,\n",
       "           0.93694,     0.93794,     0.93894,     0.93994,     0.94094,     0.94194,     0.94294,     0.94394,     0.94494,     0.94595,     0.94695,     0.94795,     0.94895,     0.94995,     0.95095,     0.95195,     0.95295,     0.95395,     0.95495,     0.95596,     0.95696,     0.95796,     0.95896,     0.95996,\n",
       "           0.96096,     0.96196,     0.96296,     0.96396,     0.96496,     0.96597,     0.96697,     0.96797,     0.96897,     0.96997,     0.97097,     0.97197,     0.97297,     0.97397,     0.97497,     0.97598,     0.97698,     0.97798,     0.97898,     0.97998,     0.98098,     0.98198,     0.98298,     0.98398,\n",
       "           0.98498,     0.98599,     0.98699,     0.98799,     0.98899,     0.98999,     0.99099,     0.99199,     0.99299,     0.99399,     0.99499,       0.996,       0.997,       0.998,       0.999,           1]), array([[          1,           1,           1,           1,           1,           1,           1,           1,           1,           1,           1,           1,           1,           1,           1,           1,           1,           1,           1,           1,           1,           1,           1,\n",
       "                  1,           1,           1,           1,           1,           1,           1,           1,           1,           1,           1,           1,           1,           1,           1,           1,           1,           1,           1,           1,           1,           1,           1,\n",
       "                  1,           1,           1,           1,           1,           1,           1,           1,           1,           1,           1,           1,           1,           1,           1,           1,           1,           1,           1,           1,           1,           1,           1,\n",
       "                  1,           1,           1,           1,           1,           1,           1,           1,           1,           1,           1,           1,           1,           1,           1,           1,           1,           1,           1,           1,           1,           1,           1,\n",
       "                  1,           1,           1,           1,           1,           1,           1,           1,           1,           1,           1,           1,           1,           1,           1,           1,           1,           1,           1,           1,           1,           1,           1,\n",
       "                  1,           1,           1,           1,           1,           1,           1,           1,           1,     0.98708,     0.96689,     0.96154,     0.96154,     0.96154,     0.96154,     0.96154,     0.96154,     0.96154,     0.96154,     0.96154,     0.96154,     0.96154,     0.96154,\n",
       "            0.96154,     0.96154,     0.96154,     0.96154,     0.96154,     0.96154,     0.96154,     0.96154,     0.96154,     0.96154,     0.96154,     0.96154,     0.96154,     0.96154,     0.96154,     0.96154,     0.96154,     0.96154,     0.96154,     0.96154,     0.96154,     0.96154,     0.96154,\n",
       "            0.96154,     0.96154,     0.96154,     0.96154,     0.96154,     0.96154,     0.96154,     0.96154,     0.96154,     0.96154,     0.96154,     0.96154,     0.96154,     0.96154,     0.96154,     0.96154,     0.96154,     0.96154,     0.96154,     0.96154,     0.96154,     0.96154,     0.96154,\n",
       "            0.96154,     0.96154,     0.96154,     0.96154,     0.96154,     0.96154,     0.96154,     0.95754,      0.9516,     0.94566,     0.93972,     0.93378,     0.92784,     0.92285,     0.92168,     0.92051,     0.91934,     0.91818,     0.91701,     0.91584,     0.91467,     0.91351,     0.91234,\n",
       "            0.91117,     0.91001,     0.90884,     0.90767,      0.9065,     0.90534,     0.90417,       0.903,     0.90184,     0.90067,      0.8995,     0.89833,     0.89717,       0.896,     0.89483,     0.89366,      0.8925,     0.89133,     0.89016,       0.889,     0.88783,     0.88666,     0.88549,\n",
       "            0.88416,     0.88233,      0.8805,     0.87867,     0.87683,       0.875,     0.87317,     0.87134,     0.86951,     0.86767,     0.86584,     0.86401,     0.86218,     0.86034,     0.85851,     0.85668,     0.85485,     0.85302,     0.85118,     0.84935,     0.84752,     0.84479,     0.83943,\n",
       "            0.83407,     0.82871,     0.82335,     0.81799,     0.81263,     0.80759,     0.80634,     0.80508,     0.80383,     0.80257,     0.80132,     0.80006,      0.7988,     0.79755,     0.79629,     0.79504,     0.79378,     0.79253,     0.79127,     0.79001,     0.78876,      0.7875,     0.78625,\n",
       "            0.78499,     0.78374,     0.78248,     0.78122,     0.77997,     0.77871,     0.77746,      0.7762,     0.77494,     0.77369,     0.77243,     0.77118,     0.76992,     0.76923,     0.76923,     0.76923,     0.76923,     0.76923,     0.76923,     0.76923,     0.76882,     0.76603,     0.76325,\n",
       "            0.76047,     0.75769,     0.75491,     0.75212,     0.74934,     0.74656,     0.74378,       0.741,     0.73821,     0.73543,     0.73265,     0.73077,     0.73077,     0.73077,     0.73077,     0.72674,     0.72149,     0.71624,     0.71099,     0.70574,     0.70048,     0.69523,     0.69162,\n",
       "            0.69007,     0.68851,     0.68696,      0.6854,     0.68385,      0.6823,     0.68074,     0.67919,     0.67764,     0.67608,     0.67453,     0.67297,     0.67142,     0.66987,     0.66831,     0.66676,      0.6652,     0.66365,      0.6621,     0.66054,     0.65899,     0.65744,     0.65588,\n",
       "            0.65433,     0.65005,     0.64453,     0.63902,     0.63351,       0.628,     0.62249,     0.61698,     0.61201,     0.60726,     0.60251,     0.59776,     0.59301,     0.58826,     0.58351,     0.57876,     0.57692,     0.57692,     0.57692,     0.57692,     0.57692,     0.57692,     0.57692,\n",
       "            0.57692,     0.57692,     0.57692,     0.57692,     0.57692,     0.57692,     0.57692,     0.57692,     0.57692,     0.57692,     0.57692,     0.57692,     0.57692,     0.57692,     0.57692,     0.57692,     0.57692,     0.57692,     0.57692,     0.57692,     0.57692,     0.57692,     0.57692,\n",
       "            0.57692,     0.57692,     0.57692,     0.57692,     0.57692,     0.57692,     0.57692,     0.57692,     0.57692,     0.57692,     0.57692,     0.57692,     0.57692,     0.57692,     0.57692,     0.57692,     0.57692,     0.57692,     0.57692,     0.57692,     0.57692,     0.57692,     0.57692,\n",
       "            0.57692,     0.57692,     0.57692,     0.57692,     0.57692,     0.57692,     0.57692,     0.57692,     0.57692,     0.57692,     0.57692,     0.57692,     0.57692,     0.57692,     0.57692,     0.57692,     0.57692,     0.57692,     0.57692,     0.57692,     0.53682,     0.53271,      0.5286,\n",
       "            0.52449,     0.52038,     0.51627,     0.51216,     0.50806,     0.50395,     0.49342,     0.46104,     0.46042,      0.4598,     0.45918,     0.45856,     0.45794,     0.45732,      0.4567,     0.45608,     0.45546,     0.45484,     0.45422,     0.45361,     0.45299,     0.45237,     0.45175,\n",
       "            0.45113,     0.45051,     0.44989,     0.44927,     0.44865,     0.44803,     0.44741,     0.44679,     0.44617,     0.44555,     0.44494,     0.44432,      0.4437,     0.44308,     0.44246,     0.44184,     0.44122,      0.4406,     0.43998,     0.43936,     0.43874,     0.43812,      0.4375,\n",
       "            0.43688,     0.43626,     0.43565,     0.43503,     0.43441,     0.43379,     0.43317,     0.43255,     0.43193,     0.43131,     0.43069,     0.43007,     0.42945,     0.42883,     0.42821,     0.42759,     0.42698,     0.42636,     0.42574,     0.42512,      0.4245,     0.42388,     0.42326,\n",
       "             0.4224,     0.42145,     0.42049,     0.41953,     0.41858,     0.41762,     0.41666,      0.4157,     0.41475,     0.41379,     0.41283,     0.41188,     0.41092,     0.40996,     0.40901,     0.40805,     0.40709,     0.40614,     0.40518,     0.40422,     0.40327,     0.40231,     0.40135,\n",
       "             0.4004,     0.39944,     0.39848,     0.39753,     0.39657,     0.39561,     0.39466,      0.3937,     0.39274,     0.39178,     0.39083,     0.38987,     0.38891,     0.38796,       0.387,     0.38604,     0.38509,     0.38446,     0.38415,     0.38384,     0.38353,     0.38322,     0.38291,\n",
       "             0.3826,     0.38229,     0.38198,     0.38167,     0.38136,     0.38105,     0.38074,     0.38043,     0.38012,     0.37982,     0.37951,      0.3792,     0.37889,     0.37858,     0.37827,     0.37796,     0.37765,     0.37734,     0.37703,     0.37672,     0.37641,      0.3761,     0.37579,\n",
       "            0.37548,     0.37517,     0.37486,     0.37455,     0.37424,     0.37393,     0.37362,     0.37331,     0.37301,      0.3727,     0.37239,     0.37208,     0.37177,     0.37146,     0.37115,     0.37084,     0.37053,     0.37022,     0.36991,      0.3696,     0.36929,     0.36898,     0.36867,\n",
       "            0.36836,     0.36805,     0.36774,     0.36743,     0.36712,     0.36681,      0.3665,      0.3662,     0.36589,     0.36558,     0.36527,     0.36496,     0.36465,     0.36434,     0.36403,     0.36372,     0.36341,      0.3631,     0.36279,     0.36248,     0.36217,     0.36186,     0.36155,\n",
       "            0.36124,     0.36093,     0.36062,     0.36031,        0.36,     0.35969,     0.35939,     0.35908,     0.35877,     0.35846,     0.35815,     0.35784,     0.35753,     0.35722,     0.35691,      0.3566,     0.35629,     0.35598,     0.35567,     0.35536,     0.35505,     0.35474,     0.35443,\n",
       "            0.35412,     0.35381,      0.3535,     0.35319,     0.35289,     0.35258,     0.35227,     0.35196,     0.35165,     0.35134,     0.35103,     0.35072,     0.35041,      0.3501,     0.34979,     0.34948,     0.34917,     0.34886,     0.34855,     0.34824,     0.34793,     0.34762,     0.34731,\n",
       "              0.347,     0.34669,     0.34638,     0.34576,     0.34422,     0.34267,     0.34113,     0.33958,     0.33804,     0.33649,     0.33495,      0.3334,     0.33186,     0.33031,     0.32877,     0.32722,     0.32568,     0.32413,     0.32259,     0.32104,      0.3195,     0.31795,     0.31641,\n",
       "            0.31486,     0.31332,     0.31177,     0.31023,     0.30868,     0.30713,     0.30555,     0.30397,      0.3024,     0.30082,     0.29925,     0.29767,     0.29609,     0.29452,     0.29294,     0.29136,     0.28979,     0.28821,     0.28663,     0.28506,     0.28348,      0.2819,     0.28033,\n",
       "            0.27875,     0.27717,      0.2756,     0.27402,     0.27245,     0.27087,     0.26929,     0.26821,     0.26715,     0.26608,     0.26502,     0.26396,     0.26289,     0.26183,     0.26077,      0.2597,     0.25864,     0.25758,     0.25651,     0.25545,     0.25439,     0.25332,     0.25226,\n",
       "             0.2512,     0.25013,     0.24907,     0.24801,     0.24694,     0.24588,     0.24482,     0.24375,     0.24269,     0.24163,     0.24056,      0.2395,     0.23844,     0.23737,     0.23631,     0.23525,     0.23418,     0.23312,     0.23206,     0.23099,     0.20154,     0.19171,     0.19092,\n",
       "            0.19012,     0.18933,     0.18854,     0.18774,     0.18695,     0.18616,     0.18536,     0.18457,     0.18378,     0.18298,     0.18219,      0.1814,      0.1806,     0.17981,     0.17901,     0.17822,     0.17743,     0.17663,     0.17584,     0.17505,     0.17425,     0.17346,     0.17267,\n",
       "            0.17187,     0.17108,     0.17028,     0.16949,      0.1687,      0.1679,     0.16711,     0.16632,     0.16552,     0.16473,     0.16394,     0.16314,     0.16235,     0.16156,     0.16076,     0.15997,     0.15917,     0.15838,     0.15759,     0.15679,       0.156,     0.15521,     0.15441,\n",
       "            0.14993,      0.1362,     0.12248,     0.11538,     0.11538,     0.11538,     0.11538,     0.11538,     0.11538,     0.11538,     0.11538,     0.11538,     0.11538,     0.11538,     0.11538,     0.11538,     0.11538,     0.11538,     0.11538,     0.11305,     0.11049,     0.10792,     0.10536,\n",
       "             0.1028,     0.10024,    0.097672,     0.09511,    0.092547,    0.089984,    0.087422,    0.084859,    0.082297,    0.079734,    0.077171,    0.076206,    0.075412,    0.074618,    0.073824,     0.07303,    0.072236,    0.071442,    0.070649,    0.069855,    0.069061,    0.068267,    0.067473,\n",
       "           0.066679,    0.065885,    0.065091,    0.064297,    0.063503,    0.062709,    0.061915,    0.061121,    0.060327,    0.059534,     0.05874,    0.057946,    0.057152,    0.056358,    0.055564,     0.05477,    0.053976,    0.053182,    0.052388,    0.051594,      0.0508,    0.050006,    0.049212,\n",
       "           0.048419,    0.047625,    0.046831,    0.046037,    0.045243,    0.044449,    0.043655,    0.042861,    0.042067,    0.041273,    0.040479,    0.039685,    0.038891,           0,           0,           0,           0,           0,           0,           0,           0,           0,           0,\n",
       "                  0,           0,           0,           0,           0,           0,           0,           0,           0,           0,           0,           0,           0,           0,           0,           0,           0,           0,           0,           0,           0,           0,           0,\n",
       "                  0,           0,           0,           0,           0,           0,           0,           0,           0,           0,           0,           0,           0,           0,           0,           0,           0,           0,           0,           0,           0,           0,           0,\n",
       "                  0,           0,           0,           0,           0,           0,           0,           0,           0,           0,           0,           0,           0,           0,           0,           0,           0,           0,           0,           0,           0,           0,           0,\n",
       "                  0,           0,           0,           0,           0,           0,           0,           0,           0,           0,           0,           0,           0,           0,           0,           0,           0,           0,           0,           0,           0,           0,           0,\n",
       "                  0,           0,           0,           0,           0,           0,           0,           0,           0,           0,           0]]), 'Confidence', 'Recall']]\n",
       "fitness: np.float64(0.7092568618580543)\n",
       "keys: ['metrics/precision(B)', 'metrics/recall(B)', 'metrics/mAP50(B)', 'metrics/mAP50-95(B)']\n",
       "maps: array([    0.68904])\n",
       "names: {0: 'ball'}\n",
       "plot: True\n",
       "results_dict: {'metrics/precision(B)': np.float64(0.7991213494972693), 'metrics/recall(B)': np.float64(0.9181767568116943), 'metrics/mAP50(B)': np.float64(0.8912484565519371), 'metrics/mAP50-95(B)': np.float64(0.6890355735587339), 'fitness': np.float64(0.7092568618580543)}\n",
       "save_dir: WindowsPath('runs/detect/train5')\n",
       "speed: {'preprocess': 1.5009641647338867, 'inference': 131.7457358042399, 'loss': 0.0, 'postprocess': 10.29515266418457}\n",
       "task: 'detect'"
      ]
     },
     "execution_count": 6,
     "metadata": {},
     "output_type": "execute_result"
    }
   ],
   "source": [
    "from ultralytics import YOLO\n",
    "\n",
    "# Cargar el modelo y especificar la tarea\n",
    "modelopelotas = YOLO(task='detect')\n",
    "\n",
    "modelopelotas.train(data=yaml_path, epochs=10, imgsz=640, batch=5, cache=True)"
   ]
  },
  {
   "cell_type": "code",
   "execution_count": 13,
   "metadata": {},
   "outputs": [
    {
     "name": "stdout",
     "output_type": "stream",
     "text": [
      "Ultralytics 8.3.29 🚀 Python-3.10.0 torch-2.5.1+cpu CPU (13th Gen Intel Core(TM) i9-13950HX)\n",
      "YOLO11n summary (fused): 238 layers, 2,582,347 parameters, 0 gradients, 6.3 GFLOPs\n",
      "\n",
      "image 1/1 c:\\Users\\48243498\\Documents\\GitHub\\Prueba-con-pelotas\\test\\images\\images-14-_jpg.rf.8c6669c0869bae3fd37bff27fec117c5.jpg: 1280x1280 28 balls, 595.8ms\n",
      "Speed: 24.0ms preprocess, 595.8ms inference, 0.2ms postprocess per image at shape (1, 3, 1280, 1280)\n",
      "Results saved to \u001b[1mruns\\detect\\testeo\u001b[0m\n",
      "💡 Learn more at https://docs.ultralytics.com/modes/predict\n"
     ]
    }
   ],
   "source": [
    "!yolo task=detect \\\n",
    "mode=predict \\\n",
    "model=\"C:/Users/48243498/Desktop/Prueba pelotas/ultralytics/runs/detect/train/weights/last.pt\" \\\n",
    "source=\"c:/Users/48243498/Documents/GitHub/Prueba-con-pelotas/test/images/images-14-_jpg.rf.8c6669c0869bae3fd37bff27fec117c5.jpg\" \\\n",
    "imgsz=1280 \\\n",
    "name=testeo"
   ]
  }
 ],
 "metadata": {
  "kernelspec": {
   "display_name": "Python 3",
   "language": "python",
   "name": "python3"
  },
  "language_info": {
   "codemirror_mode": {
    "name": "ipython",
    "version": 3
   },
   "file_extension": ".py",
   "mimetype": "text/x-python",
   "name": "python",
   "nbconvert_exporter": "python",
   "pygments_lexer": "ipython3",
   "version": "3.10.0"
  }
 },
 "nbformat": 4,
 "nbformat_minor": 2
}
