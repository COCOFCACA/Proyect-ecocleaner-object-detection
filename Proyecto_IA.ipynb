{
  "cells": [
    {
      "cell_type": "code",
      "execution_count": 1,
      "metadata": {
        "colab": {
          "base_uri": "https://localhost:8080/"
        },
        "collapsed": true,
        "id": "f9L8L5XQACRk",
        "outputId": "4c273ca0-7d17-4c4c-e774-4be02b0e150b"
      },
      "outputs": [],
      "source": [
        "import os\n",
        "#import torch\n",
        "import shutil\n",
        "from matplotlib import pyplot as plt"
      ]
    },
    {
      "cell_type": "code",
      "execution_count": 2,
      "metadata": {
        "colab": {
          "base_uri": "https://localhost:8080/"
        },
        "id": "h8gI9NnzUbbS",
        "outputId": "de151835-37bc-4405-c321-b669930d245d"
      },
      "outputs": [],
      "source": [
        "# Ruta a tu dataset en Google Drive\n",
        "dataset_path = 'C:/Users/48243498/Desktop/Proyecto-Dataset'\n",
        "\n",
        "#Ruta local donde se copiará el dataset\n",
        "local_data_path = 'C:/Users/48243498/Desktop/Proyecto-Dataset'"
      ]
    },
    {
      "cell_type": "code",
      "execution_count": 3,
      "metadata": {
        "colab": {
          "base_uri": "https://localhost:8080/"
        },
        "collapsed": true,
        "id": "cXaUMtwUcGCc",
        "outputId": "b7093bb8-029d-4297-d5ff-1da5e59d597a"
      },
      "outputs": [
        {
          "name": "stdout",
          "output_type": "stream",
          "text": [
            "c:\\Users\\48243498\\Documents\\GitHub\\Proyecto-Ecocleaner\\ultralytics\n",
            "Defaulting to user installation because normal site-packages is not writeable\n",
            "Obtaining file:///C:/Users/48243498/Documents/GitHub/Proyecto-Ecocleaner/ultralytics\n",
            "  Installing build dependencies: started\n",
            "  Installing build dependencies: finished with status 'done'\n",
            "  Checking if build backend supports build_editable: started\n",
            "  Checking if build backend supports build_editable: finished with status 'done'\n",
            "  Getting requirements to build editable: started\n",
            "  Getting requirements to build editable: finished with status 'done'\n",
            "  Preparing editable metadata (pyproject.toml): started\n",
            "  Preparing editable metadata (pyproject.toml): finished with status 'done'\n",
            "Requirement already satisfied: numpy>=1.23.0 in c:\\users\\48243498\\appdata\\roaming\\python\\python310\\site-packages (from ultralytics==8.3.29) (2.1.3)\n",
            "Requirement already satisfied: matplotlib>=3.3.0 in c:\\users\\48243498\\appdata\\roaming\\python\\python310\\site-packages (from ultralytics==8.3.29) (3.9.2)\n",
            "Requirement already satisfied: opencv-python>=4.6.0 in c:\\users\\48243498\\appdata\\roaming\\python\\python310\\site-packages (from ultralytics==8.3.29) (4.10.0.84)\n",
            "Requirement already satisfied: pillow>=7.1.2 in c:\\users\\48243498\\appdata\\roaming\\python\\python310\\site-packages (from ultralytics==8.3.29) (11.0.0)\n",
            "Requirement already satisfied: pyyaml>=5.3.1 in c:\\users\\48243498\\appdata\\roaming\\python\\python310\\site-packages (from ultralytics==8.3.29) (6.0.2)\n",
            "Requirement already satisfied: requests>=2.23.0 in c:\\users\\48243498\\appdata\\roaming\\python\\python310\\site-packages (from ultralytics==8.3.29) (2.32.3)\n",
            "Requirement already satisfied: scipy>=1.4.1 in c:\\users\\48243498\\appdata\\roaming\\python\\python310\\site-packages (from ultralytics==8.3.29) (1.14.1)\n",
            "Requirement already satisfied: torch>=1.8.0 in c:\\users\\48243498\\appdata\\roaming\\python\\python310\\site-packages (from ultralytics==8.3.29) (2.5.1)\n",
            "Requirement already satisfied: torchvision>=0.9.0 in c:\\users\\48243498\\appdata\\roaming\\python\\python310\\site-packages (from ultralytics==8.3.29) (0.20.1)\n",
            "Requirement already satisfied: tqdm>=4.64.0 in c:\\users\\48243498\\appdata\\roaming\\python\\python310\\site-packages (from ultralytics==8.3.29) (4.67.0)\n",
            "Requirement already satisfied: psutil in c:\\users\\48243498\\appdata\\roaming\\python\\python310\\site-packages (from ultralytics==8.3.29) (6.1.0)\n",
            "Requirement already satisfied: py-cpuinfo in c:\\users\\48243498\\appdata\\roaming\\python\\python310\\site-packages (from ultralytics==8.3.29) (9.0.0)\n",
            "Requirement already satisfied: pandas>=1.1.4 in c:\\users\\48243498\\appdata\\roaming\\python\\python310\\site-packages (from ultralytics==8.3.29) (2.2.3)\n",
            "Requirement already satisfied: seaborn>=0.11.0 in c:\\users\\48243498\\appdata\\roaming\\python\\python310\\site-packages (from ultralytics==8.3.29) (0.13.2)\n",
            "Requirement already satisfied: ultralytics-thop>=2.0.0 in c:\\users\\48243498\\appdata\\roaming\\python\\python310\\site-packages (from ultralytics==8.3.29) (2.0.11)\n",
            "Requirement already satisfied: contourpy>=1.0.1 in c:\\users\\48243498\\appdata\\roaming\\python\\python310\\site-packages (from matplotlib>=3.3.0->ultralytics==8.3.29) (1.3.0)\n",
            "Requirement already satisfied: cycler>=0.10 in c:\\users\\48243498\\appdata\\roaming\\python\\python310\\site-packages (from matplotlib>=3.3.0->ultralytics==8.3.29) (0.12.1)\n",
            "Requirement already satisfied: fonttools>=4.22.0 in c:\\users\\48243498\\appdata\\roaming\\python\\python310\\site-packages (from matplotlib>=3.3.0->ultralytics==8.3.29) (4.54.1)\n",
            "Requirement already satisfied: kiwisolver>=1.3.1 in c:\\users\\48243498\\appdata\\roaming\\python\\python310\\site-packages (from matplotlib>=3.3.0->ultralytics==8.3.29) (1.4.7)\n",
            "Requirement already satisfied: packaging>=20.0 in c:\\users\\48243498\\appdata\\roaming\\python\\python310\\site-packages (from matplotlib>=3.3.0->ultralytics==8.3.29) (24.2)\n",
            "Requirement already satisfied: pyparsing>=2.3.1 in c:\\users\\48243498\\appdata\\roaming\\python\\python310\\site-packages (from matplotlib>=3.3.0->ultralytics==8.3.29) (3.2.0)\n",
            "Requirement already satisfied: python-dateutil>=2.7 in c:\\users\\48243498\\appdata\\roaming\\python\\python310\\site-packages (from matplotlib>=3.3.0->ultralytics==8.3.29) (2.9.0.post0)\n",
            "Requirement already satisfied: pytz>=2020.1 in c:\\users\\48243498\\appdata\\roaming\\python\\python310\\site-packages (from pandas>=1.1.4->ultralytics==8.3.29) (2024.2)\n",
            "Requirement already satisfied: tzdata>=2022.7 in c:\\users\\48243498\\appdata\\roaming\\python\\python310\\site-packages (from pandas>=1.1.4->ultralytics==8.3.29) (2024.2)\n",
            "Requirement already satisfied: charset-normalizer<4,>=2 in c:\\users\\48243498\\appdata\\roaming\\python\\python310\\site-packages (from requests>=2.23.0->ultralytics==8.3.29) (3.4.0)\n",
            "Requirement already satisfied: idna<4,>=2.5 in c:\\users\\48243498\\appdata\\roaming\\python\\python310\\site-packages (from requests>=2.23.0->ultralytics==8.3.29) (3.10)\n",
            "Requirement already satisfied: urllib3<3,>=1.21.1 in c:\\users\\48243498\\appdata\\roaming\\python\\python310\\site-packages (from requests>=2.23.0->ultralytics==8.3.29) (2.2.3)\n",
            "Requirement already satisfied: certifi>=2017.4.17 in c:\\users\\48243498\\appdata\\roaming\\python\\python310\\site-packages (from requests>=2.23.0->ultralytics==8.3.29) (2024.8.30)\n",
            "Requirement already satisfied: filelock in c:\\users\\48243498\\appdata\\roaming\\python\\python310\\site-packages (from torch>=1.8.0->ultralytics==8.3.29) (3.16.1)\n",
            "Requirement already satisfied: typing-extensions>=4.8.0 in c:\\users\\48243498\\appdata\\roaming\\python\\python310\\site-packages (from torch>=1.8.0->ultralytics==8.3.29) (4.12.2)\n",
            "Requirement already satisfied: networkx in c:\\users\\48243498\\appdata\\roaming\\python\\python310\\site-packages (from torch>=1.8.0->ultralytics==8.3.29) (3.4.2)\n",
            "Requirement already satisfied: jinja2 in c:\\users\\48243498\\appdata\\roaming\\python\\python310\\site-packages (from torch>=1.8.0->ultralytics==8.3.29) (3.1.4)\n",
            "Requirement already satisfied: fsspec in c:\\users\\48243498\\appdata\\roaming\\python\\python310\\site-packages (from torch>=1.8.0->ultralytics==8.3.29) (2024.10.0)\n",
            "Requirement already satisfied: sympy==1.13.1 in c:\\users\\48243498\\appdata\\roaming\\python\\python310\\site-packages (from torch>=1.8.0->ultralytics==8.3.29) (1.13.1)\n",
            "Requirement already satisfied: mpmath<1.4,>=1.1.0 in c:\\users\\48243498\\appdata\\roaming\\python\\python310\\site-packages (from sympy==1.13.1->torch>=1.8.0->ultralytics==8.3.29) (1.3.0)\n",
            "Requirement already satisfied: colorama in c:\\users\\48243498\\appdata\\roaming\\python\\python310\\site-packages (from tqdm>=4.64.0->ultralytics==8.3.29) (0.4.6)\n",
            "Requirement already satisfied: six>=1.5 in c:\\users\\48243498\\appdata\\roaming\\python\\python310\\site-packages (from python-dateutil>=2.7->matplotlib>=3.3.0->ultralytics==8.3.29) (1.16.0)\n",
            "Requirement already satisfied: MarkupSafe>=2.0 in c:\\users\\48243498\\appdata\\roaming\\python\\python310\\site-packages (from jinja2->torch>=1.8.0->ultralytics==8.3.29) (3.0.2)\n",
            "Building wheels for collected packages: ultralytics\n",
            "  Building editable for ultralytics (pyproject.toml): started\n",
            "  Building editable for ultralytics (pyproject.toml): finished with status 'done'\n",
            "  Created wheel for ultralytics: filename=ultralytics-8.3.29-0.editable-py3-none-any.whl size=22962 sha256=16336b478922e9fadaecbd8ac5237dfc617b33f8b63caf518e55343b0122a49c\n",
            "  Stored in directory: C:\\Users\\48243498\\AppData\\Local\\Temp\\pip-ephem-wheel-cache-e2o4527b\\wheels\\8b\\16\\c4\\ca03e6533230152e6da1e9b99e6f76e66d6ea9db2334184894\n",
            "Successfully built ultralytics\n",
            "Installing collected packages: ultralytics\n",
            "  Attempting uninstall: ultralytics\n",
            "    Found existing installation: ultralytics 8.3.29\n",
            "    Uninstalling ultralytics-8.3.29:\n",
            "      Successfully uninstalled ultralytics-8.3.29\n",
            "Successfully installed ultralytics-8.3.29\n",
            "Note: you may need to restart the kernel to use updated packages.\n"
          ]
        }
      ],
      "source": [
        "# Configuración del entorno YOLOv5\n",
        "os.system(\"git clone https://github.com/ultralytics/ultralytics.git\")\n",
        "%cd ultralytics\n",
        "%pip install -e ."
      ]
    },
    {
      "cell_type": "code",
      "execution_count": 7,
      "metadata": {
        "id": "KQk-xI1ENUFS"
      },
      "outputs": [],
      "source": [
        "\n",
        "# Crear el contenido del archivo dataset.yaml\n",
        "yaml_content = f\"\"\"\n",
        "train: \"C:/Users/48243498/Documents/GitHub/Proyecto-Ecocleaner/Proyecto-Dataset/train\"\n",
        "val: \"C:/Users/48243498/Documents/GitHub/Proyecto-Ecocleaner/Proyecto-Dataset/valid\"\n",
        "\n",
        "nc: 7\n",
        "names:\n",
        "  0: \"Bolsa-de-nilon\"\n",
        "  1: \"Bolsa-de-plastico\"\n",
        "  2: \"Botella de plastico\"\n",
        "  3: \"Lata\"\n",
        "  4: \"Paquete de plastico\"\n",
        "  5: \"Plastico descartable\"\n",
        "  6: \"Recipiente plastico\"\n",
        "\"\"\"\n",
        "# Ruta donde se guardará el archivo dataset.yaml\n",
        "yaml_path = 'c:/Users/48243498/Documents/GitHub/Proyecto-Ecocleaner/Proyecto-Dataset/data.yaml'\n",
        "\n",
        "# Escribir el contenido en el archivo dataset.yaml\n",
        "with open(\"c:/Users/48243498/Documents/GitHub/Proyecto-Ecocleaner/Proyecto-Dataset/data.yaml\", 'w') as f:\n",
        "    f.write(yaml_content)"
      ]
    },
    {
      "cell_type": "code",
      "execution_count": 5,
      "metadata": {
        "colab": {
          "base_uri": "https://localhost:8080/"
        },
        "id": "tKTMC2XsQ4Ax",
        "outputId": "8c01a5f1-d317-43ef-a7d0-7c3f9acfb274"
      },
      "outputs": [
        {
          "name": "stdout",
          "output_type": "stream",
          "text": [
            "El archivo dataset.yaml existe en la ubicación especificada.\n"
          ]
        }
      ],
      "source": [
        "if os.path.exists(yaml_path):\n",
        "    print(\"El archivo dataset.yaml existe en la ubicación especificada.\")\n",
        "else:\n",
        "    print(\"El archivo dataset.yaml NO existe en la ubicación especificada.\")"
      ]
    },
    {
      "cell_type": "code",
      "execution_count": 8,
      "metadata": {
        "colab": {
          "base_uri": "https://localhost:8080/",
          "height": 1000
        },
        "id": "XbuD-WIvKhEB",
        "outputId": "bbae20e3-46c2-457c-ccac-57598da16cce"
      },
      "outputs": [
        {
          "name": "stdout",
          "output_type": "stream",
          "text": [
            "Ultralytics 8.3.29  Python-3.10.0 torch-2.5.1+cpu CPU (13th Gen Intel Core(TM) i9-13950HX)\n",
            "\u001b[34m\u001b[1mengine\\trainer: \u001b[0mtask=detect, mode=train, model=yolo11n.pt, data=c:/Users/48243498/Documents/GitHub/Proyecto-Ecocleaner/Proyecto-Dataset/data.yaml, epochs=20, time=None, patience=100, batch=32, imgsz=640, save=True, save_period=-1, cache=True, device=None, workers=8, project=None, name=train3, exist_ok=False, pretrained=True, optimizer=auto, verbose=True, seed=0, deterministic=True, single_cls=False, rect=False, cos_lr=False, close_mosaic=10, resume=False, amp=True, fraction=1.0, profile=False, freeze=None, multi_scale=False, overlap_mask=True, mask_ratio=4, dropout=0.0, val=True, split=val, save_json=False, save_hybrid=False, conf=None, iou=0.7, max_det=300, half=False, dnn=False, plots=True, source=None, vid_stride=1, stream_buffer=False, visualize=False, augment=False, agnostic_nms=False, classes=None, retina_masks=False, embed=None, show=False, save_frames=False, save_txt=False, save_conf=False, save_crop=False, show_labels=True, show_conf=True, show_boxes=True, line_width=None, format=torchscript, keras=False, optimize=False, int8=False, dynamic=False, simplify=True, opset=None, workspace=4, nms=False, lr0=0.01, lrf=0.01, momentum=0.937, weight_decay=0.0005, warmup_epochs=3.0, warmup_momentum=0.8, warmup_bias_lr=0.1, box=7.5, cls=0.5, dfl=1.5, pose=12.0, kobj=1.0, label_smoothing=0.0, nbs=64, hsv_h=0.015, hsv_s=0.7, hsv_v=0.4, degrees=0.0, translate=0.1, scale=0.5, shear=0.0, perspective=0.0, flipud=0.0, fliplr=0.5, bgr=0.0, mosaic=1.0, mixup=0.0, copy_paste=0.0, copy_paste_mode=flip, auto_augment=randaugment, erasing=0.4, crop_fraction=1.0, cfg=None, tracker=botsort.yaml, save_dir=runs\\detect\\train3\n",
            "Overriding model.yaml nc=80 with nc=7\n",
            "\n",
            "                   from  n    params  module                                       arguments                     \n",
            "  0                  -1  1       464  ultralytics.nn.modules.conv.Conv             [3, 16, 3, 2]                 \n",
            "  1                  -1  1      4672  ultralytics.nn.modules.conv.Conv             [16, 32, 3, 2]                \n",
            "  2                  -1  1      6640  ultralytics.nn.modules.block.C3k2            [32, 64, 1, False, 0.25]      \n",
            "  3                  -1  1     36992  ultralytics.nn.modules.conv.Conv             [64, 64, 3, 2]                \n",
            "  4                  -1  1     26080  ultralytics.nn.modules.block.C3k2            [64, 128, 1, False, 0.25]     \n",
            "  5                  -1  1    147712  ultralytics.nn.modules.conv.Conv             [128, 128, 3, 2]              \n",
            "  6                  -1  1     87040  ultralytics.nn.modules.block.C3k2            [128, 128, 1, True]           \n",
            "  7                  -1  1    295424  ultralytics.nn.modules.conv.Conv             [128, 256, 3, 2]              \n",
            "  8                  -1  1    346112  ultralytics.nn.modules.block.C3k2            [256, 256, 1, True]           \n",
            "  9                  -1  1    164608  ultralytics.nn.modules.block.SPPF            [256, 256, 5]                 \n",
            " 10                  -1  1    249728  ultralytics.nn.modules.block.C2PSA           [256, 256, 1]                 \n",
            " 11                  -1  1         0  torch.nn.modules.upsampling.Upsample         [None, 2, 'nearest']          \n",
            " 12             [-1, 6]  1         0  ultralytics.nn.modules.conv.Concat           [1]                           \n",
            " 13                  -1  1    111296  ultralytics.nn.modules.block.C3k2            [384, 128, 1, False]          \n",
            " 14                  -1  1         0  torch.nn.modules.upsampling.Upsample         [None, 2, 'nearest']          \n",
            " 15             [-1, 4]  1         0  ultralytics.nn.modules.conv.Concat           [1]                           \n",
            " 16                  -1  1     32096  ultralytics.nn.modules.block.C3k2            [256, 64, 1, False]           \n",
            " 17                  -1  1     36992  ultralytics.nn.modules.conv.Conv             [64, 64, 3, 2]                \n",
            " 18            [-1, 13]  1         0  ultralytics.nn.modules.conv.Concat           [1]                           \n",
            " 19                  -1  1     86720  ultralytics.nn.modules.block.C3k2            [192, 128, 1, False]          \n",
            " 20                  -1  1    147712  ultralytics.nn.modules.conv.Conv             [128, 128, 3, 2]              \n",
            " 21            [-1, 10]  1         0  ultralytics.nn.modules.conv.Concat           [1]                           \n",
            " 22                  -1  1    378880  ultralytics.nn.modules.block.C3k2            [384, 256, 1, True]           \n",
            " 23        [16, 19, 22]  1    432037  ultralytics.nn.modules.head.Detect           [7, [64, 128, 256]]           \n",
            "YOLO11n summary: 319 layers, 2,591,205 parameters, 2,591,189 gradients, 6.4 GFLOPs\n",
            "\n",
            "Transferred 448/499 items from pretrained weights\n",
            "Freezing layer 'model.23.dfl.conv.weight'\n"
          ]
        },
        {
          "name": "stderr",
          "output_type": "stream",
          "text": [
            "\u001b[34m\u001b[1mtrain: \u001b[0mScanning C:\\Users\\48243498\\Documents\\GitHub\\Proyecto-Ecocleaner\\Proyecto-Dataset\\train\\labels.cache... 8074 images, 5454 backgrounds, 0 corrupt: 100%|██████████| 8074/8074 [00:00<?, ?it/s]"
          ]
        },
        {
          "name": "stdout",
          "output_type": "stream",
          "text": [
            "\u001b[34m\u001b[1mtrain: \u001b[0mWARNING  C:\\Users\\48243498\\Documents\\GitHub\\Proyecto-Ecocleaner\\Proyecto-Dataset\\train\\images\\1000_F_210571277_i1EyGh80fG9s7V23ZfkwV8JSyOPCR_png_jpg.rf.107af3d3f6685375a29418366a12303b.jpg: 6 duplicate labels removed\n",
            "\u001b[34m\u001b[1mtrain: \u001b[0mWARNING  C:\\Users\\48243498\\Documents\\GitHub\\Proyecto-Ecocleaner\\Proyecto-Dataset\\train\\images\\1000_F_210571277_i1EyGh80fG9s7V23ZfkwV8JSyOPCR_png_jpg.rf.2cc9c99bc58098c3c91037d173cfacae.jpg: 6 duplicate labels removed\n",
            "\u001b[34m\u001b[1mtrain: \u001b[0mWARNING  C:\\Users\\48243498\\Documents\\GitHub\\Proyecto-Ecocleaner\\Proyecto-Dataset\\train\\images\\1000_F_210571277_i1EyGh80fG9s7V23ZfkwV8JSyOPCR_png_jpg.rf.efaa3cbc7909a1735376fe80f9f51259.jpg: 6 duplicate labels removed\n",
            "WARNING  Box and segment counts should be equal, but got len(segments) = 3134, len(boxes) = 3883. To resolve this only boxes will be used and all segments will be removed. To avoid this please supply either a detect or segment dataset, not a detect-segment mixed dataset.\n"
          ]
        },
        {
          "name": "stderr",
          "output_type": "stream",
          "text": [
            "\n"
          ]
        },
        {
          "name": "stdout",
          "output_type": "stream",
          "text": [
            "WARNING  cache='ram' may produce non-deterministic training results. Consider cache='disk' as a deterministic alternative if your disk space allows.\n"
          ]
        },
        {
          "name": "stderr",
          "output_type": "stream",
          "text": [
            "\u001b[34m\u001b[1mtrain: \u001b[0mCaching images (9.2GB RAM): 100%|██████████| 8074/8074 [00:16<00:00, 480.28it/s]\n",
            "\u001b[34m\u001b[1mval: \u001b[0mScanning C:\\Users\\48243498\\Documents\\GitHub\\Proyecto-Ecocleaner\\Proyecto-Dataset\\valid\\labels.cache... 693 images, 502 backgrounds, 0 corrupt: 100%|██████████| 693/693 [00:00<?, ?it/s]"
          ]
        },
        {
          "name": "stdout",
          "output_type": "stream",
          "text": [
            "WARNING  Box and segment counts should be equal, but got len(segments) = 216, len(boxes) = 254. To resolve this only boxes will be used and all segments will be removed. To avoid this please supply either a detect or segment dataset, not a detect-segment mixed dataset.\n"
          ]
        },
        {
          "name": "stderr",
          "output_type": "stream",
          "text": [
            "\n"
          ]
        },
        {
          "name": "stdout",
          "output_type": "stream",
          "text": [
            "WARNING  cache='ram' may produce non-deterministic training results. Consider cache='disk' as a deterministic alternative if your disk space allows.\n"
          ]
        },
        {
          "name": "stderr",
          "output_type": "stream",
          "text": [
            "\u001b[34m\u001b[1mval: \u001b[0mCaching images (0.8GB RAM): 100%|██████████| 693/693 [00:01<00:00, 417.84it/s]\n"
          ]
        },
        {
          "name": "stdout",
          "output_type": "stream",
          "text": [
            "Plotting labels to runs\\detect\\train3\\labels.jpg... \n",
            "\u001b[34m\u001b[1moptimizer:\u001b[0m 'optimizer=auto' found, ignoring 'lr0=0.01' and 'momentum=0.937' and determining best 'optimizer', 'lr0' and 'momentum' automatically... \n",
            "\u001b[34m\u001b[1moptimizer:\u001b[0m AdamW(lr=0.000909, momentum=0.9) with parameter groups 81 weight(decay=0.0), 88 weight(decay=0.0005), 87 bias(decay=0.0)\n",
            "Image sizes 640 train, 640 val\n",
            "Using 0 dataloader workers\n",
            "Logging results to \u001b[1mruns\\detect\\train3\u001b[0m\n",
            "Starting training for 20 epochs...\n",
            "\n",
            "      Epoch    GPU_mem   box_loss   cls_loss   dfl_loss  Instances       Size\n"
          ]
        },
        {
          "name": "stderr",
          "output_type": "stream",
          "text": [
            "       1/20         0G     0.6964      4.869      1.223         15        640:  32%|███▏      | 81/253 [22:35<47:58, 16.74s/it]  \n"
          ]
        },
        {
          "ename": "KeyboardInterrupt",
          "evalue": "",
          "output_type": "error",
          "traceback": [
            "\u001b[1;31m---------------------------------------------------------------------------\u001b[0m",
            "\u001b[1;31mKeyboardInterrupt\u001b[0m                         Traceback (most recent call last)",
            "Cell \u001b[1;32mIn[8], line 6\u001b[0m\n\u001b[0;32m      3\u001b[0m \u001b[38;5;66;03m# Cargar el modelo y especificar la tarea\u001b[39;00m\n\u001b[0;32m      4\u001b[0m model \u001b[38;5;241m=\u001b[39m YOLO(task\u001b[38;5;241m=\u001b[39m\u001b[38;5;124m'\u001b[39m\u001b[38;5;124mdetect\u001b[39m\u001b[38;5;124m'\u001b[39m)\n\u001b[1;32m----> 6\u001b[0m \u001b[43mmodel\u001b[49m\u001b[38;5;241;43m.\u001b[39;49m\u001b[43mtrain\u001b[49m\u001b[43m(\u001b[49m\u001b[43mdata\u001b[49m\u001b[38;5;241;43m=\u001b[39;49m\u001b[43myaml_path\u001b[49m\u001b[43m,\u001b[49m\u001b[43m \u001b[49m\u001b[43mepochs\u001b[49m\u001b[38;5;241;43m=\u001b[39;49m\u001b[38;5;241;43m20\u001b[39;49m\u001b[43m,\u001b[49m\u001b[43m \u001b[49m\u001b[43mimgsz\u001b[49m\u001b[38;5;241;43m=\u001b[39;49m\u001b[38;5;241;43m640\u001b[39;49m\u001b[43m,\u001b[49m\u001b[43m \u001b[49m\u001b[43mbatch\u001b[49m\u001b[38;5;241;43m=\u001b[39;49m\u001b[38;5;241;43m32\u001b[39;49m\u001b[43m,\u001b[49m\u001b[43m \u001b[49m\u001b[43mcache\u001b[49m\u001b[38;5;241;43m=\u001b[39;49m\u001b[38;5;28;43;01mTrue\u001b[39;49;00m\u001b[43m)\u001b[49m\n",
            "File \u001b[1;32mc:\\Users\\48243498\\Documents\\GitHub\\Proyecto-Ecocleaner\\ultralytics\\ultralytics\\engine\\model.py:802\u001b[0m, in \u001b[0;36mModel.train\u001b[1;34m(self, trainer, **kwargs)\u001b[0m\n\u001b[0;32m    799\u001b[0m     \u001b[38;5;28mself\u001b[39m\u001b[38;5;241m.\u001b[39mmodel \u001b[38;5;241m=\u001b[39m \u001b[38;5;28mself\u001b[39m\u001b[38;5;241m.\u001b[39mtrainer\u001b[38;5;241m.\u001b[39mmodel\n\u001b[0;32m    801\u001b[0m \u001b[38;5;28mself\u001b[39m\u001b[38;5;241m.\u001b[39mtrainer\u001b[38;5;241m.\u001b[39mhub_session \u001b[38;5;241m=\u001b[39m \u001b[38;5;28mself\u001b[39m\u001b[38;5;241m.\u001b[39msession  \u001b[38;5;66;03m# attach optional HUB session\u001b[39;00m\n\u001b[1;32m--> 802\u001b[0m \u001b[38;5;28;43mself\u001b[39;49m\u001b[38;5;241;43m.\u001b[39;49m\u001b[43mtrainer\u001b[49m\u001b[38;5;241;43m.\u001b[39;49m\u001b[43mtrain\u001b[49m\u001b[43m(\u001b[49m\u001b[43m)\u001b[49m\n\u001b[0;32m    803\u001b[0m \u001b[38;5;66;03m# Update model and cfg after training\u001b[39;00m\n\u001b[0;32m    804\u001b[0m \u001b[38;5;28;01mif\u001b[39;00m RANK \u001b[38;5;129;01min\u001b[39;00m {\u001b[38;5;241m-\u001b[39m\u001b[38;5;241m1\u001b[39m, \u001b[38;5;241m0\u001b[39m}:\n",
            "File \u001b[1;32mc:\\Users\\48243498\\Documents\\GitHub\\Proyecto-Ecocleaner\\ultralytics\\ultralytics\\engine\\trainer.py:207\u001b[0m, in \u001b[0;36mBaseTrainer.train\u001b[1;34m(self)\u001b[0m\n\u001b[0;32m    204\u001b[0m         ddp_cleanup(\u001b[38;5;28mself\u001b[39m, \u001b[38;5;28mstr\u001b[39m(file))\n\u001b[0;32m    206\u001b[0m \u001b[38;5;28;01melse\u001b[39;00m:\n\u001b[1;32m--> 207\u001b[0m     \u001b[38;5;28;43mself\u001b[39;49m\u001b[38;5;241;43m.\u001b[39;49m\u001b[43m_do_train\u001b[49m\u001b[43m(\u001b[49m\u001b[43mworld_size\u001b[49m\u001b[43m)\u001b[49m\n",
            "File \u001b[1;32mc:\\Users\\48243498\\Documents\\GitHub\\Proyecto-Ecocleaner\\ultralytics\\ultralytics\\engine\\trainer.py:393\u001b[0m, in \u001b[0;36mBaseTrainer._do_train\u001b[1;34m(self, world_size)\u001b[0m\n\u001b[0;32m    388\u001b[0m     \u001b[38;5;28mself\u001b[39m\u001b[38;5;241m.\u001b[39mtloss \u001b[38;5;241m=\u001b[39m (\n\u001b[0;32m    389\u001b[0m         (\u001b[38;5;28mself\u001b[39m\u001b[38;5;241m.\u001b[39mtloss \u001b[38;5;241m*\u001b[39m i \u001b[38;5;241m+\u001b[39m \u001b[38;5;28mself\u001b[39m\u001b[38;5;241m.\u001b[39mloss_items) \u001b[38;5;241m/\u001b[39m (i \u001b[38;5;241m+\u001b[39m \u001b[38;5;241m1\u001b[39m) \u001b[38;5;28;01mif\u001b[39;00m \u001b[38;5;28mself\u001b[39m\u001b[38;5;241m.\u001b[39mtloss \u001b[38;5;129;01mis\u001b[39;00m \u001b[38;5;129;01mnot\u001b[39;00m \u001b[38;5;28;01mNone\u001b[39;00m \u001b[38;5;28;01melse\u001b[39;00m \u001b[38;5;28mself\u001b[39m\u001b[38;5;241m.\u001b[39mloss_items\n\u001b[0;32m    390\u001b[0m     )\n\u001b[0;32m    392\u001b[0m \u001b[38;5;66;03m# Backward\u001b[39;00m\n\u001b[1;32m--> 393\u001b[0m \u001b[38;5;28;43mself\u001b[39;49m\u001b[38;5;241;43m.\u001b[39;49m\u001b[43mscaler\u001b[49m\u001b[38;5;241;43m.\u001b[39;49m\u001b[43mscale\u001b[49m\u001b[43m(\u001b[49m\u001b[38;5;28;43mself\u001b[39;49m\u001b[38;5;241;43m.\u001b[39;49m\u001b[43mloss\u001b[49m\u001b[43m)\u001b[49m\u001b[38;5;241;43m.\u001b[39;49m\u001b[43mbackward\u001b[49m\u001b[43m(\u001b[49m\u001b[43m)\u001b[49m\n\u001b[0;32m    395\u001b[0m \u001b[38;5;66;03m# Optimize - https://pytorch.org/docs/master/notes/amp_examples.html\u001b[39;00m\n\u001b[0;32m    396\u001b[0m \u001b[38;5;28;01mif\u001b[39;00m ni \u001b[38;5;241m-\u001b[39m last_opt_step \u001b[38;5;241m>\u001b[39m\u001b[38;5;241m=\u001b[39m \u001b[38;5;28mself\u001b[39m\u001b[38;5;241m.\u001b[39maccumulate:\n",
            "File \u001b[1;32m~\\AppData\\Roaming\\Python\\Python310\\site-packages\\torch\\_tensor.py:581\u001b[0m, in \u001b[0;36mTensor.backward\u001b[1;34m(self, gradient, retain_graph, create_graph, inputs)\u001b[0m\n\u001b[0;32m    571\u001b[0m \u001b[38;5;28;01mif\u001b[39;00m has_torch_function_unary(\u001b[38;5;28mself\u001b[39m):\n\u001b[0;32m    572\u001b[0m     \u001b[38;5;28;01mreturn\u001b[39;00m handle_torch_function(\n\u001b[0;32m    573\u001b[0m         Tensor\u001b[38;5;241m.\u001b[39mbackward,\n\u001b[0;32m    574\u001b[0m         (\u001b[38;5;28mself\u001b[39m,),\n\u001b[1;32m   (...)\u001b[0m\n\u001b[0;32m    579\u001b[0m         inputs\u001b[38;5;241m=\u001b[39minputs,\n\u001b[0;32m    580\u001b[0m     )\n\u001b[1;32m--> 581\u001b[0m \u001b[43mtorch\u001b[49m\u001b[38;5;241;43m.\u001b[39;49m\u001b[43mautograd\u001b[49m\u001b[38;5;241;43m.\u001b[39;49m\u001b[43mbackward\u001b[49m\u001b[43m(\u001b[49m\n\u001b[0;32m    582\u001b[0m \u001b[43m    \u001b[49m\u001b[38;5;28;43mself\u001b[39;49m\u001b[43m,\u001b[49m\u001b[43m \u001b[49m\u001b[43mgradient\u001b[49m\u001b[43m,\u001b[49m\u001b[43m \u001b[49m\u001b[43mretain_graph\u001b[49m\u001b[43m,\u001b[49m\u001b[43m \u001b[49m\u001b[43mcreate_graph\u001b[49m\u001b[43m,\u001b[49m\u001b[43m \u001b[49m\u001b[43minputs\u001b[49m\u001b[38;5;241;43m=\u001b[39;49m\u001b[43minputs\u001b[49m\n\u001b[0;32m    583\u001b[0m \u001b[43m\u001b[49m\u001b[43m)\u001b[49m\n",
            "File \u001b[1;32m~\\AppData\\Roaming\\Python\\Python310\\site-packages\\torch\\autograd\\__init__.py:347\u001b[0m, in \u001b[0;36mbackward\u001b[1;34m(tensors, grad_tensors, retain_graph, create_graph, grad_variables, inputs)\u001b[0m\n\u001b[0;32m    342\u001b[0m     retain_graph \u001b[38;5;241m=\u001b[39m create_graph\n\u001b[0;32m    344\u001b[0m \u001b[38;5;66;03m# The reason we repeat the same comment below is that\u001b[39;00m\n\u001b[0;32m    345\u001b[0m \u001b[38;5;66;03m# some Python versions print out the first line of a multi-line function\u001b[39;00m\n\u001b[0;32m    346\u001b[0m \u001b[38;5;66;03m# calls in the traceback and some print out the last line\u001b[39;00m\n\u001b[1;32m--> 347\u001b[0m \u001b[43m_engine_run_backward\u001b[49m\u001b[43m(\u001b[49m\n\u001b[0;32m    348\u001b[0m \u001b[43m    \u001b[49m\u001b[43mtensors\u001b[49m\u001b[43m,\u001b[49m\n\u001b[0;32m    349\u001b[0m \u001b[43m    \u001b[49m\u001b[43mgrad_tensors_\u001b[49m\u001b[43m,\u001b[49m\n\u001b[0;32m    350\u001b[0m \u001b[43m    \u001b[49m\u001b[43mretain_graph\u001b[49m\u001b[43m,\u001b[49m\n\u001b[0;32m    351\u001b[0m \u001b[43m    \u001b[49m\u001b[43mcreate_graph\u001b[49m\u001b[43m,\u001b[49m\n\u001b[0;32m    352\u001b[0m \u001b[43m    \u001b[49m\u001b[43minputs\u001b[49m\u001b[43m,\u001b[49m\n\u001b[0;32m    353\u001b[0m \u001b[43m    \u001b[49m\u001b[43mallow_unreachable\u001b[49m\u001b[38;5;241;43m=\u001b[39;49m\u001b[38;5;28;43;01mTrue\u001b[39;49;00m\u001b[43m,\u001b[49m\n\u001b[0;32m    354\u001b[0m \u001b[43m    \u001b[49m\u001b[43maccumulate_grad\u001b[49m\u001b[38;5;241;43m=\u001b[39;49m\u001b[38;5;28;43;01mTrue\u001b[39;49;00m\u001b[43m,\u001b[49m\n\u001b[0;32m    355\u001b[0m \u001b[43m\u001b[49m\u001b[43m)\u001b[49m\n",
            "File \u001b[1;32m~\\AppData\\Roaming\\Python\\Python310\\site-packages\\torch\\autograd\\graph.py:825\u001b[0m, in \u001b[0;36m_engine_run_backward\u001b[1;34m(t_outputs, *args, **kwargs)\u001b[0m\n\u001b[0;32m    823\u001b[0m     unregister_hooks \u001b[38;5;241m=\u001b[39m _register_logging_hooks_on_whole_graph(t_outputs)\n\u001b[0;32m    824\u001b[0m \u001b[38;5;28;01mtry\u001b[39;00m:\n\u001b[1;32m--> 825\u001b[0m     \u001b[38;5;28;01mreturn\u001b[39;00m Variable\u001b[38;5;241m.\u001b[39m_execution_engine\u001b[38;5;241m.\u001b[39mrun_backward(  \u001b[38;5;66;03m# Calls into the C++ engine to run the backward pass\u001b[39;00m\n\u001b[0;32m    826\u001b[0m         t_outputs, \u001b[38;5;241m*\u001b[39margs, \u001b[38;5;241m*\u001b[39m\u001b[38;5;241m*\u001b[39mkwargs\n\u001b[0;32m    827\u001b[0m     )  \u001b[38;5;66;03m# Calls into the C++ engine to run the backward pass\u001b[39;00m\n\u001b[0;32m    828\u001b[0m \u001b[38;5;28;01mfinally\u001b[39;00m:\n\u001b[0;32m    829\u001b[0m     \u001b[38;5;28;01mif\u001b[39;00m attach_logging_hooks:\n",
            "\u001b[1;31mKeyboardInterrupt\u001b[0m: "
          ]
        }
      ],
      "source": [
        "from ultralytics import YOLO\n",
        "\n",
        "# Cargar el modelo y especificar la tarea\n",
        "model = YOLO(task='detect')\n",
        "\n",
        "model.train(data=yaml_path, epochs=20, imgsz=640, batch=32, cache=True)"
      ]
    },
    {
      "cell_type": "code",
      "execution_count": null,
      "metadata": {
        "id": "37XNZ2ipwgGa"
      },
      "outputs": [],
      "source": [
        "import yaml\n",
        "\n",
        "#yaml_path = 'runs/detect/train4/args.yaml'\n",
        "\n",
        "# Cargar y mostrar el contenido del archivo YAML\n",
        "with open(yaml_path, 'r') as file:\n",
        "    data = yaml.safe_load(file)\n",
        "\n",
        "print(data)\n"
      ]
    }
  ],
  "metadata": {
    "colab": {
      "provenance": []
    },
    "kernelspec": {
      "display_name": "Python 3",
      "name": "python3"
    },
    "language_info": {
      "codemirror_mode": {
        "name": "ipython",
        "version": 3
      },
      "file_extension": ".py",
      "mimetype": "text/x-python",
      "name": "python",
      "nbconvert_exporter": "python",
      "pygments_lexer": "ipython3",
      "version": "3.10.0"
    }
  },
  "nbformat": 4,
  "nbformat_minor": 0
}
